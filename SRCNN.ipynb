{
 "cells": [
  {
   "cell_type": "markdown",
   "metadata": {
    "colab_type": "text",
    "id": "GvvvmYIN-QCI"
   },
   "source": [
    "# Libraries"
   ]
  },
  {
   "cell_type": "code",
   "execution_count": null,
   "metadata": {
    "colab": {},
    "colab_type": "code",
    "id": "v-OL1E6VREl2"
   },
   "outputs": [],
   "source": [
    "import os\n",
    "import easydict\n",
    "import time\n",
    "\n",
    "import numpy as np\n",
    "import cv2\n",
    "import math\n",
    "\n",
    "import torch\n",
    "import torch.nn as nn\n",
    "import torch.utils.data as data\n",
    "import torch.optim as optim\n",
    "\n",
    "from torch.utils import data as D\n",
    "from torch.utils.data import DataLoader\n",
    "\n",
    "from tqdm import tqdm\n",
    "import glob"
   ]
  },
  {
   "cell_type": "markdown",
   "metadata": {
    "colab_type": "text",
    "id": "J3iRkchP-WUZ"
   },
   "source": [
    "# Mount google drive to colab environment\n",
    "The location will at /content/gdrive"
   ]
  },
  {
   "cell_type": "code",
   "execution_count": null,
   "metadata": {
    "colab": {
     "base_uri": "https://localhost:8080/",
     "height": 125
    },
    "colab_type": "code",
    "id": "e8QVBj6-RfHK",
    "outputId": "b97934fa-3856-46a0-e068-0b62e7a91331"
   },
   "outputs": [
    {
     "name": "stdout",
     "output_type": "stream",
     "text": [
      "Go to this URL in a browser: https://accounts.google.com/o/oauth2/auth?client_id=947318989803-6bn6qk8qdgf4n4g3pfee6491hc0brc4i.apps.googleusercontent.com&redirect_uri=urn%3aietf%3awg%3aoauth%3a2.0%3aoob&response_type=code&scope=email%20https%3a%2f%2fwww.googleapis.com%2fauth%2fdocs.test%20https%3a%2f%2fwww.googleapis.com%2fauth%2fdrive%20https%3a%2f%2fwww.googleapis.com%2fauth%2fdrive.photos.readonly%20https%3a%2f%2fwww.googleapis.com%2fauth%2fpeopleapi.readonly\n",
      "\n",
      "Enter your authorization code:\n",
      "··········\n",
      "Mounted at /content/gdrive\n"
     ]
    }
   ],
   "source": [
    "from google.colab import drive\n",
    "drive.mount('/content/gdrive')"
   ]
  },
  {
   "cell_type": "markdown",
   "metadata": {
    "colab_type": "text",
    "id": "pUgEbyo3-gn5"
   },
   "source": [
    "# Check mounted google drive and its contens\n",
    "Make sure you to save data inside google driver"
   ]
  },
  {
   "cell_type": "code",
   "execution_count": null,
   "metadata": {
    "colab": {
     "base_uri": "https://localhost:8080/",
     "height": 87
    },
    "colab_type": "code",
    "id": "3oEo2tENsjln",
    "outputId": "5a58eec9-02e7-4646-e7c9-41bffcf4e715"
   },
   "outputs": [
    {
     "name": "stdout",
     "output_type": "stream",
     "text": [
      "total 8\n",
      "drwx------ 4 root root 4096 Dec 21 05:15 gdrive\n",
      "drwxr-xr-x 1 root root 4096 Dec 18 16:52 sample_data\n",
      "/content\n"
     ]
    }
   ],
   "source": [
    "!ls -l\n",
    "!pwd"
   ]
  },
  {
   "cell_type": "code",
   "execution_count": null,
   "metadata": {
    "colab": {
     "base_uri": "https://localhost:8080/",
     "height": 87
    },
    "colab_type": "code",
    "id": "rEZ5gS-URsbQ",
    "outputId": "9a10f14f-5bdc-4015-8cb1-7764bcc7efbd"
   },
   "outputs": [
    {
     "name": "stdout",
     "output_type": "stream",
     "text": [
      "total 12\n",
      "drwx------ 2 root root 4096 Dec 19 18:19 test_images\n",
      "drwx------ 2 root root 4096 Dec 19 18:19 train_patches_x4lr64\n",
      "drwx------ 2 root root 4096 Dec 19 18:19 valid_patches_x4lr64\n"
     ]
    }
   ],
   "source": [
    "!ls -l \"/content/gdrive/My Drive/div2k_100\""
   ]
  },
  {
   "cell_type": "code",
   "execution_count": null,
   "metadata": {
    "colab": {},
    "colab_type": "code",
    "id": "LjZauhgbsxUU"
   },
   "outputs": [],
   "source": [
    "#!unzip -q /content/div2k_100.zip -d div2k_100"
   ]
  },
  {
   "cell_type": "code",
   "execution_count": null,
   "metadata": {
    "colab": {
     "base_uri": "https://localhost:8080/",
     "height": 70
    },
    "colab_type": "code",
    "id": "TODZIl3SqUPS",
    "outputId": "238884f4-266d-4d1c-e71e-f3ad49c5dc11"
   },
   "outputs": [
    {
     "name": "stdout",
     "output_type": "stream",
     "text": [
      "Python 3.6.9\n",
      "1.3.1\n",
      "True\n"
     ]
    }
   ],
   "source": [
    "!python --version\n",
    "print(torch.__version__)\n",
    "print(torch.cuda.is_available())"
   ]
  },
  {
   "cell_type": "markdown",
   "metadata": {
    "colab_type": "text",
    "id": "W9rz17z8-2wG"
   },
   "source": [
    "# Set your data directory into div2k_dir"
   ]
  },
  {
   "cell_type": "code",
   "execution_count": null,
   "metadata": {
    "colab": {},
    "colab_type": "code",
    "id": "2XYDDTynS-U7"
   },
   "outputs": [],
   "source": [
    "div2k_dir = \"/content/gdrive/My Drive/div2k_100\""
   ]
  },
  {
   "cell_type": "markdown",
   "metadata": {
    "colab_type": "text",
    "id": "uYlTmqZC-731"
   },
   "source": [
    "# Options to control overal programming behaviors"
   ]
  },
  {
   "cell_type": "code",
   "execution_count": null,
   "metadata": {
    "colab": {
     "base_uri": "https://localhost:8080/",
     "height": 54
    },
    "colab_type": "code",
    "id": "ocKQaztbREmA",
    "outputId": "4443a652-b777-4532-ed9c-2e0a42d3a5fb",
    "scrolled": true
   },
   "outputs": [
    {
     "name": "stdout",
     "output_type": "stream",
     "text": [
      "{'resume': False, 'resume_best': False, 'use_npy': True, 'multi_gpu': True, 'use_cuda': True, 'device': 'cpu', 'n_epochs': 100, 'batch_size': 50, 'start_epoch': 1, 'lr': 0.0001, 'b1': 0.9, 'b2': 0.999, 'checkpoint_dir': '/content/gdrive/My Drive/div2k_100/checkpoint_dir', 'data_dir': '/content/gdrive/My Drive/div2k_100', 'train_dir': '/content/gdrive/My Drive/div2k_100/train_patches_x4lr64', 'valid_dir': '/content/gdrive/My Drive/div2k_100/valid_patches_x4lr64', 'test_dir': '/content/gdrive/My Drive/div2k_100/test_images', 'test_result_dir': '/content/gdrive/My Drive/div2k_100/test_result', 'lr_img': 64, 'res_scale': 4, 'n_channels': 3}\n"
     ]
    }
   ],
   "source": [
    "opt = easydict.EasyDict({\n",
    "    \"resume\": False,\n",
    "    \"resume_best\": False,\n",
    "    \"use_npy\": True,\n",
    "    \n",
    "    \"multi_gpu\": True,\n",
    "    \"use_cuda\": True,\n",
    "    \"device\": 'cpu',\n",
    "\n",
    "    \"n_epochs\": 100, # Total number of epoch to iterate\n",
    "    \"batch_size\": 50, # Size of batch of one epoch\n",
    "    \"start_epoch\": 1,\n",
    "    \"lr\": 1e-4, # Adam: learning rate\n",
    "    \"b1\": 0.9, # Adam: decay of first order momentum of gradient\n",
    "    \"b2\": 0.999, # Adam: decay of second order momentum of gradient\n",
    "    \n",
    "    \"checkpoint_dir\": None,\n",
    "    \"data_dir\": None,\n",
    "    \"train_dir\": None,\n",
    "    \"valid_dir\": None,\n",
    "    \"test_dir\": None,\n",
    "    \"test_result_dir\": None,\n",
    "    \n",
    "    \"lr_img\": 64,\n",
    "    \"res_scale\": 4,\n",
    "    \"n_channels\": 3\n",
    "})\n",
    "\n",
    "opt.data_dir = div2k_dir\n",
    "opt.checkpoint_dir = os.path.join(opt.data_dir, \"checkpoint_dir\")\n",
    "opt.train_dir = os.path.join(opt.data_dir, \"train_patches_x\" + str(opt.res_scale) + \"lr\" + str(opt.lr_img))\n",
    "opt.valid_dir = os.path.join(opt.data_dir, \"valid_patches_x\" + str(opt.res_scale) + \"lr\" + str(opt.lr_img))\n",
    "opt.test_dir = os.path.join(opt.data_dir, \"test_images\")\n",
    "opt.test_result_dir = os.path.join(opt.data_dir, \"test_result\")\n",
    "\n",
    "print(opt)"
   ]
  },
  {
   "cell_type": "markdown",
   "metadata": {
    "colab_type": "text",
    "id": "BD3qZ8tZ_BvN"
   },
   "source": [
    "# Noramlization of image\n",
    "This function will make image range from 0 ~ 255 to 0 ~ 1.0 and convert type from int16 to float32"
   ]
  },
  {
   "cell_type": "code",
   "execution_count": null,
   "metadata": {
    "colab": {},
    "colab_type": "code",
    "id": "Np_O_GUgREmI"
   },
   "outputs": [],
   "source": [
    "def normalize_img(img):\n",
    "    img = img / 255.\n",
    "    img = img.astype(np.float32)\n",
    "    return img"
   ]
  },
  {
   "cell_type": "markdown",
   "metadata": {
    "colab_type": "text",
    "id": "8aW_OTwF_WFu"
   },
   "source": [
    "# Define your dataset\n",
    "This defined dataset can be easily loaded by pytorch library"
   ]
  },
  {
   "cell_type": "code",
   "execution_count": null,
   "metadata": {
    "colab": {},
    "colab_type": "code",
    "id": "OnamWOz2REmO"
   },
   "outputs": [],
   "source": [
    "class DatasetFromFolder(data.Dataset):\n",
    "    def __init__(self, data_dir, use_npy):\n",
    "        super(DatasetFromFolder, self).__init__()\n",
    "\n",
    "        self.use_npy = use_npy\n",
    "\n",
    "        if self.use_npy:\n",
    "            lr_dir = os.path.join(data_dir, 'lr.npy')\n",
    "            hr_dir = os.path.join(data_dir, 'hr.npy')\n",
    "        else:\n",
    "            lr_dir = os.path.join(data_dir, 'lr')\n",
    "            hr_dir = os.path.join(data_dir, 'hr')\n",
    "        \n",
    "        self.dsets = {}\n",
    "\n",
    "        if self.use_npy:\n",
    "            self.dsets['lr'] = np.load(lr_dir)\n",
    "            self.dsets['hr'] = np.load(hr_dir)\n",
    "        else:\n",
    "            lr_list = os.listdir(lr_dir)\n",
    "            hr_list = os.listdir(hr_dir)\n",
    "\n",
    "            lr_list.sort()\n",
    "            hr_list.sort()\n",
    "            self.dsets['lr'] = [os.path.join(lr_dir, x) for x in lr_list]\n",
    "            self.dsets['hr'] = [os.path.join(hr_dir, x) for x in hr_list]\n",
    "        \n",
    "        self.dsets['file_name'] = os.listdir(os.path.join(data_dir, 'hr'))\n",
    "\n",
    "    def __getitem__(self, idx):\n",
    "\n",
    "        if self.use_npy:\n",
    "            input = self.dsets['lr'][idx]\n",
    "            target = self.dsets['hr'][idx]\n",
    "        else:\n",
    "            input = cv2.imread(self.dsets['lr'][idx])\n",
    "            target = cv2.imread(self.dsets['hr'][idx])\n",
    "\n",
    "        file_name = self.dsets['file_name'][idx]\n",
    "\n",
    "        input = cv2.resize(input, (target.shape[1], target.shape[0]), interpolation=cv2.INTER_CUBIC)\n",
    "        \n",
    "        input = normalize_img(input)\n",
    "        target = normalize_img(target)\n",
    "\n",
    "        input = np.transpose(input, (2, 0, 1))\n",
    "        target = np.transpose(target, (2, 0, 1))\n",
    "\n",
    "        input = torch.from_numpy(input).type(torch.FloatTensor)\n",
    "        target = torch.from_numpy(target).type(torch.FloatTensor)\n",
    "\n",
    "        return input, target, file_name\n",
    "\n",
    "    def __len__(self):\n",
    "        return len(self.dsets['lr'])"
   ]
  },
  {
   "cell_type": "markdown",
   "metadata": {
    "colab_type": "text",
    "id": "b4j98DVs_d0-"
   },
   "source": [
    "# Shift function\n",
    "This function will shift your image from 0 ~ 1.0 to -mean ~ (1 - mean) for each RGB channel. This will make neural network to learn easily"
   ]
  },
  {
   "cell_type": "code",
   "execution_count": null,
   "metadata": {
    "colab": {},
    "colab_type": "code",
    "id": "1EvtKcwQREmU"
   },
   "outputs": [],
   "source": [
    "class MeanShift(nn.Conv2d):\n",
    "    def __init__(\n",
    "        self, rgb_range,\n",
    "        rgb_mean=(0.4488, 0.4371, 0.4040), rgb_std=(1.0, 1.0, 1.0), sign=-1):\n",
    "\n",
    "        super(MeanShift, self).__init__(3, 3, kernel_size=1)\n",
    "        std = torch.Tensor(rgb_std)\n",
    "        self.weight.data = torch.eye(3).view(3, 3, 1, 1) / std.view(3, 1, 1, 1)\n",
    "        self.bias.data = sign * rgb_range * torch.Tensor(rgb_mean) / std\n",
    "        for p in self.parameters():\n",
    "            p.requires_grad = False"
   ]
  },
  {
   "cell_type": "markdown",
   "metadata": {
    "colab_type": "text",
    "id": "JsRJiIc1_zvK"
   },
   "source": [
    "# Define your model\n",
    "See details of [paper](https://arxiv.org/abs/1501.00092)"
   ]
  },
  {
   "cell_type": "code",
   "execution_count": null,
   "metadata": {
    "colab": {},
    "colab_type": "code",
    "id": "2m-LcQx5REma",
    "scrolled": true
   },
   "outputs": [],
   "source": [
    "class SRCNN(nn.Module):\n",
    "    def __init__(self, opt):\n",
    "        super(SRCNN, self).__init__()\n",
    "        pix_range = 1.0\n",
    "        \n",
    "        self.sub_mean = MeanShift(pix_range)\n",
    "        self.add_mean = MeanShift(pix_range, sign=1)\n",
    "        \n",
    "        self.conv1 = nn.Conv2d(opt.n_channels, 64, kernel_size=15, padding=7)\n",
    "        self.relu1 = nn.ReLU()\n",
    "        self.conv2 = nn.Conv2d(64, 32, kernel_size=1, padding=0)\n",
    "        self.relu2 = nn.ReLU()\n",
    "        self.conv3 = nn.Conv2d(32, opt.n_channels, kernel_size=5, padding=2)\n",
    "\n",
    "    def forward(self, x):\n",
    "        x = self.sub_mean(x)\n",
    "        x = self.relu1(self.conv1(x))\n",
    "        x = self.relu2(self.conv2(x))\n",
    "        x = self.conv3(x)\n",
    "        \n",
    "        out = self.add_mean(x)\n",
    "        return out"
   ]
  },
  {
   "cell_type": "markdown",
   "metadata": {
    "colab_type": "text",
    "id": "3fiuLdCXAFcJ"
   },
   "source": [
    "# Prepare for your unwanted system or program down\n",
    "This function saves the progress of learning for each echo. You can load the mode later from the last learned model. Of course, you have to define the function of loading model."
   ]
  },
  {
   "cell_type": "code",
   "execution_count": null,
   "metadata": {
    "colab": {},
    "colab_type": "code",
    "id": "MZfO7PpyREme"
   },
   "outputs": [],
   "source": [
    "def save_checkpoint(srcnn, epoch, loss):\n",
    "    checkpoint_dir = os.path.abspath(opt.checkpoint_dir)\n",
    "    if not os.path.exists(checkpoint_dir):\n",
    "        os.makedirs(checkpoint_dir)\n",
    "    checkpoint_path = os.path.join(checkpoint_dir, \"models_epoch_%04d_loss_%.6f.pth\" % (epoch, loss))\n",
    "    \n",
    "    if torch.cuda.device_count() > 1 and opt.multi_gpu:\n",
    "        state = {\"epoch\": epoch, \"srcnn\": srcnn.module}\n",
    "    else:\n",
    "        state = {\"epoch\": epoch, \"srcnn\": srcnn}\n",
    "\n",
    "    torch.save(state, checkpoint_path)\n",
    "    print(\"Checkpoint saved to {}\".format(checkpoint_path))"
   ]
  },
  {
   "cell_type": "code",
   "execution_count": null,
   "metadata": {
    "colab": {},
    "colab_type": "code",
    "id": "HeOIA41JREmi"
   },
   "outputs": [],
   "source": [
    "def load_model(checkpoint_dir):\n",
    "    checkpoint_list = glob.glob(os.path.join(checkpoint_dir, \"*.pth\"))\n",
    "    checkpoint_list.sort()\n",
    "\n",
    "    if opt.resume_best:\n",
    "        loss_list = list(map(lambda x: float(os.path.basename(x).split('_')[4][:-4]), checkpoint_list))\n",
    "        best_loss_idx = loss_list.index(min(loss_list))\n",
    "        checkpoint_path = checkpoint_list[best_loss_idx]\n",
    "    else:\n",
    "        checkpoint_path = checkpoint_list[len(checkpoint_list) - 1]\n",
    "\n",
    "    srcnn = SRCNN(opt)\n",
    "\n",
    "    if os.path.isfile(checkpoint_path):\n",
    "        print(\"=> loading checkpoint '{}'\".format(checkpoint_path))\n",
    "        checkpoint = torch.load(checkpoint_path)\n",
    "        \n",
    "        n_epoch = checkpoint['epoch']\n",
    "        srcnn.load_state_dict(checkpoint['srcnn'].state_dict())\n",
    "        print(\"=> loaded checkpoint '{}' (epoch {})\"\n",
    "                .format(checkpoint_path, n_epoch))\n",
    "    else:\n",
    "        print(\"=> no checkpoint found at '{}'\".format(checkpoint_path))\n",
    "        n_epoch = 0\n",
    "\n",
    "    return n_epoch + 1, srcnn"
   ]
  },
  {
   "cell_type": "markdown",
   "metadata": {
    "colab_type": "text",
    "id": "lC-JBCYHAcvT"
   },
   "source": [
    "# Define your train step"
   ]
  },
  {
   "cell_type": "code",
   "execution_count": null,
   "metadata": {
    "colab": {},
    "colab_type": "code",
    "id": "TvPI316BREmo"
   },
   "outputs": [],
   "source": [
    "def train(opt, model, optimizer, data_loader, loss_criterion):\n",
    "    print(\"===> Training\")\n",
    "    start_time = time.time()\n",
    "\n",
    "    total_loss = 0.0\n",
    "    total_psnr = 0.0\n",
    "\n",
    "    for iteration, batch in enumerate(tqdm(data_loader), 1):\n",
    "        x, target = batch[0], batch[1]\n",
    "        if opt.use_cuda:\n",
    "            x = x.to(opt.device)\n",
    "            target = target.to(opt.device)\n",
    "\n",
    "        out = model(x)\n",
    "\n",
    "        loss = loss_criterion(out, target)\n",
    "\n",
    "        optimizer.zero_grad()\n",
    "        loss.backward()\n",
    "        optimizer.step()\n",
    "\n",
    "        total_loss += loss.item()\n",
    "        psnr = 10 * math.log10(1. / loss.item())\n",
    "        total_psnr += psnr\n",
    "\n",
    "        # print(\"Training %.2fs => Epoch[%d/%d](%d/%d): Loss: %.5f PSNR: %.5f\" %\n",
    "        #     (time.time() - start_time, opt.epoch_num, opt.n_epochs, iteration, len(data_loader), loss.item(), psnr))\n",
    "\n",
    "    total_loss = total_loss / iteration\n",
    "    total_psnr = total_psnr / iteration\n",
    "    \n",
    "    print(\"***Training %.2fs => Epoch[%d/%d]: Loss: %.5f PSNR: %.5f\" %\n",
    "        (time.time() - start_time, opt.epoch_num, opt.n_epochs, total_loss, total_psnr))\n",
    "\n",
    "    return (total_loss, total_psnr)"
   ]
  },
  {
   "cell_type": "markdown",
   "metadata": {
    "colab_type": "text",
    "id": "STG1ZpygAhey"
   },
   "source": [
    "# Define your evaluation method for validation dataset"
   ]
  },
  {
   "cell_type": "code",
   "execution_count": null,
   "metadata": {
    "colab": {},
    "colab_type": "code",
    "id": "WYgyyOUiREms"
   },
   "outputs": [],
   "source": [
    "def evaluate(opt, model, data_loader, loss_criterion):\n",
    "    print(\"===> Validation\")\n",
    "    start_time = time.time()\n",
    "\n",
    "    total_loss = 0.0\n",
    "    total_psnr = 0.0\n",
    "    with torch.no_grad():\n",
    "        for iteration, batch in enumerate(tqdm(data_loader), 1):\n",
    "            x, target = batch[0], batch[1]\n",
    "\n",
    "            if opt.use_cuda:\n",
    "                x = x.to(opt.device)\n",
    "                target = target.to(opt.device)\n",
    "\n",
    "            out = model(x)\n",
    "            \n",
    "            loss = loss_criterion(out, target)\n",
    "            total_loss += loss.item()\n",
    "\n",
    "            psnr = 10 * math.log10(1. / loss.item())\n",
    "            total_psnr += psnr\n",
    "\n",
    "            # print(\"Validation %.2fs => Epoch[%d/%d](%d/%d): Loss: %.5f PSNR: %.5f\" %\n",
    "            #     (time.time() - start_time, opt.epoch_num, opt.n_epochs, iteration, len(data_loader), loss.item(), psnr))\n",
    "\n",
    "    total_loss = total_loss / iteration\n",
    "    total_psnr = total_psnr / iteration\n",
    "    \n",
    "    print(\"***Validation %.2fs => Epoch[%d/%d]: Loss: %.5f PSNR: %.5f\" %\n",
    "        (time.time() - start_time, opt.epoch_num, opt.n_epochs, total_loss, total_psnr))\n",
    "\n",
    "    return (total_loss, total_psnr)"
   ]
  },
  {
   "cell_type": "markdown",
   "metadata": {
    "colab_type": "text",
    "id": "HNvHIjzeAnjS"
   },
   "source": [
    "# Define whole training process"
   ]
  },
  {
   "cell_type": "code",
   "execution_count": null,
   "metadata": {
    "colab": {},
    "colab_type": "code",
    "id": "kWU1137oREm5"
   },
   "outputs": [],
   "source": [
    "def run_train(opt, training_data_loader, validation_data_loader):\n",
    "    # Define what device we are using\n",
    "    if not os.path.exists(opt.checkpoint_dir):\n",
    "        os.makedirs(opt.checkpoint_dir)\n",
    "\n",
    "    log_file = os.path.join(opt.checkpoint_dir, \"srcnn_log.csv\")\n",
    "\n",
    "    print('[Initialize networks for training]')\n",
    "    srcnn = SRCNN(opt)\n",
    "    l2_criterion = nn.MSELoss()\n",
    "    print(srcnn)\n",
    "\n",
    "    # optionally resume from a checkpoint\n",
    "    if opt.resume:\n",
    "        opt.start_epoch, srcnn = load_model(opt.checkpoint_dir)\n",
    "    else:\n",
    "        with open(log_file, mode='w') as f:\n",
    "            f.write(\"epoch,train_loss,valid_loss\\n\")\n",
    "\n",
    "    print(\"===> Setting GPU\")\n",
    "    print(\"CUDA Available: \", torch.cuda.is_available())\n",
    "    if opt.use_cuda and torch.cuda.is_available():\n",
    "        opt.use_cuda = True\n",
    "        opt.device = 'cuda'\n",
    "    else:\n",
    "        opt.use_cuda = False\n",
    "        opt.device = 'cpu'\n",
    "        \n",
    "    if torch.cuda.device_count() > 1 and opt.multi_gpu:\n",
    "        print(\"Use \" + str(torch.cuda.device_count()) + \" GPUs\")\n",
    "        srcnn = nn.DataParallel(srcnn)\n",
    "\n",
    "    if opt.use_cuda:\n",
    "        srcnn = srcnn.to(opt.device)\n",
    "        l2_criterion = l2_criterion.to(opt.device)\n",
    "\n",
    "    print(\"===> Setting Optimizer\")\n",
    "    optimizer = torch.optim.Adam(srcnn.parameters(),  lr=opt.lr, betas=(opt.b1, opt.b2))\n",
    "\n",
    "    for epoch in range(opt.start_epoch, opt.n_epochs):\n",
    "        opt.epoch_num = epoch\n",
    "        train_loss, train_psnr = train(opt, srcnn, optimizer, training_data_loader, loss_criterion=l2_criterion)\n",
    "        valid_loss, valid_psnr = evaluate(opt, srcnn, validation_data_loader, loss_criterion=l2_criterion)\n",
    "\n",
    "        with open(log_file, mode='a') as f:\n",
    "            f.write(\"%d,%08f,%08f,%08f,%08f\\n\" % (\n",
    "                epoch,\n",
    "                train_loss,\n",
    "                train_psnr,\n",
    "                valid_loss,\n",
    "                valid_psnr\n",
    "            ))\n",
    "        save_checkpoint(srcnn, epoch, valid_loss)"
   ]
  },
  {
   "cell_type": "markdown",
   "metadata": {
    "colab_type": "text",
    "id": "KlIg90EkAthx"
   },
   "source": [
    "# Now it's time to train the SRCNN model"
   ]
  },
  {
   "cell_type": "code",
   "execution_count": null,
   "metadata": {
    "colab": {
     "base_uri": "https://localhost:8080/",
     "height": 1000
    },
    "colab_type": "code",
    "id": "crr6jgVNREm-",
    "outputId": "77e42c09-c589-4435-8a13-ed2307b08523"
   },
   "outputs": [
    {
     "name": "stdout",
     "output_type": "stream",
     "text": [
      "train_dir is: /content/gdrive/My Drive/div2k_100/train_patches_x4lr64\n",
      "valid_dir is: /content/gdrive/My Drive/div2k_100/valid_patches_x4lr64\n",
      "[Initialize networks for training]\n",
      "SRCNN(\n",
      "  (sub_mean): MeanShift(3, 3, kernel_size=(1, 1), stride=(1, 1))\n",
      "  (add_mean): MeanShift(3, 3, kernel_size=(1, 1), stride=(1, 1))\n",
      "  (conv1): Conv2d(3, 64, kernel_size=(15, 15), stride=(1, 1), padding=(7, 7))\n",
      "  (relu1): ReLU()\n",
      "  (conv2): Conv2d(64, 32, kernel_size=(1, 1), stride=(1, 1))\n",
      "  (relu2): ReLU()\n",
      "  (conv3): Conv2d(32, 3, kernel_size=(5, 5), stride=(1, 1), padding=(2, 2))\n",
      ")\n",
      "===> Setting GPU\n",
      "CUDA Available:  True\n"
     ]
    },
    {
     "name": "stderr",
     "output_type": "stream",
     "text": [
      "  0%|          | 0/71 [00:00<?, ?it/s]"
     ]
    },
    {
     "name": "stdout",
     "output_type": "stream",
     "text": [
      "===> Setting Optimizer\n",
      "===> Training\n"
     ]
    },
    {
     "name": "stderr",
     "output_type": "stream",
     "text": [
      "100%|██████████| 71/71 [00:28<00:00,  2.50it/s]\n",
      "  0%|          | 0/11 [00:00<?, ?it/s]"
     ]
    },
    {
     "name": "stdout",
     "output_type": "stream",
     "text": [
      "***Training 28.39s => Epoch[1/100]: Loss: 0.02385 PSNR: 17.26001\n",
      "===> Validation\n"
     ]
    },
    {
     "name": "stderr",
     "output_type": "stream",
     "text": [
      "100%|██████████| 11/11 [00:02<00:00,  4.17it/s]\n",
      "/usr/local/lib/python3.6/dist-packages/torch/serialization.py:292: UserWarning: Couldn't retrieve source code for container of type SRCNN. It won't be checked for correctness upon loading.\n",
      "  \"type \" + obj.__name__ + \". It won't be checked \"\n",
      "/usr/local/lib/python3.6/dist-packages/torch/serialization.py:292: UserWarning: Couldn't retrieve source code for container of type MeanShift. It won't be checked for correctness upon loading.\n",
      "  \"type \" + obj.__name__ + \". It won't be checked \"\n",
      "/usr/local/lib/python3.6/dist-packages/torch/serialization.py:292: UserWarning: Couldn't retrieve source code for container of type Conv2d. It won't be checked for correctness upon loading.\n",
      "  \"type \" + obj.__name__ + \". It won't be checked \"\n",
      "/usr/local/lib/python3.6/dist-packages/torch/serialization.py:292: UserWarning: Couldn't retrieve source code for container of type ReLU. It won't be checked for correctness upon loading.\n",
      "  \"type \" + obj.__name__ + \". It won't be checked \"\n",
      "  0%|          | 0/71 [00:00<?, ?it/s]"
     ]
    },
    {
     "name": "stdout",
     "output_type": "stream",
     "text": [
      "***Validation 2.76s => Epoch[1/100]: Loss: 0.00934 PSNR: 20.64944\n",
      "Checkpoint saved to /content/gdrive/My Drive/div2k_100/checkpoint_dir/models_epoch_0001_loss_0.009337.pth\n",
      "===> Training\n"
     ]
    },
    {
     "name": "stderr",
     "output_type": "stream",
     "text": [
      "100%|██████████| 71/71 [00:28<00:00,  2.51it/s]\n",
      "  0%|          | 0/11 [00:00<?, ?it/s]"
     ]
    },
    {
     "name": "stdout",
     "output_type": "stream",
     "text": [
      "***Training 28.32s => Epoch[2/100]: Loss: 0.00835 PSNR: 20.82762\n",
      "===> Validation\n"
     ]
    },
    {
     "name": "stderr",
     "output_type": "stream",
     "text": [
      "100%|██████████| 11/11 [00:02<00:00,  4.18it/s]\n",
      "  0%|          | 0/71 [00:00<?, ?it/s]"
     ]
    },
    {
     "name": "stdout",
     "output_type": "stream",
     "text": [
      "***Validation 2.74s => Epoch[2/100]: Loss: 0.00631 PSNR: 22.26714\n",
      "Checkpoint saved to /content/gdrive/My Drive/div2k_100/checkpoint_dir/models_epoch_0002_loss_0.006309.pth\n",
      "===> Training\n"
     ]
    },
    {
     "name": "stderr",
     "output_type": "stream",
     "text": [
      "100%|██████████| 71/71 [00:28<00:00,  2.51it/s]\n",
      "  0%|          | 0/11 [00:00<?, ?it/s]"
     ]
    },
    {
     "name": "stdout",
     "output_type": "stream",
     "text": [
      "***Training 28.28s => Epoch[3/100]: Loss: 0.00632 PSNR: 22.06391\n",
      "===> Validation\n"
     ]
    },
    {
     "name": "stderr",
     "output_type": "stream",
     "text": [
      "100%|██████████| 11/11 [00:02<00:00,  4.16it/s]\n",
      "  0%|          | 0/71 [00:00<?, ?it/s]"
     ]
    },
    {
     "name": "stdout",
     "output_type": "stream",
     "text": [
      "***Validation 2.76s => Epoch[3/100]: Loss: 0.00441 PSNR: 23.94150\n",
      "Checkpoint saved to /content/gdrive/My Drive/div2k_100/checkpoint_dir/models_epoch_0003_loss_0.004415.pth\n",
      "===> Training\n"
     ]
    },
    {
     "name": "stderr",
     "output_type": "stream",
     "text": [
      "100%|██████████| 71/71 [00:28<00:00,  2.51it/s]\n",
      "  0%|          | 0/11 [00:00<?, ?it/s]"
     ]
    },
    {
     "name": "stdout",
     "output_type": "stream",
     "text": [
      "***Training 28.26s => Epoch[4/100]: Loss: 0.00504 PSNR: 23.02361\n",
      "===> Validation\n"
     ]
    },
    {
     "name": "stderr",
     "output_type": "stream",
     "text": [
      "100%|██████████| 11/11 [00:02<00:00,  4.19it/s]\n",
      "  0%|          | 0/71 [00:00<?, ?it/s]"
     ]
    },
    {
     "name": "stdout",
     "output_type": "stream",
     "text": [
      "***Validation 2.75s => Epoch[4/100]: Loss: 0.00373 PSNR: 24.73371\n",
      "Checkpoint saved to /content/gdrive/My Drive/div2k_100/checkpoint_dir/models_epoch_0004_loss_0.003729.pth\n",
      "===> Training\n"
     ]
    },
    {
     "name": "stderr",
     "output_type": "stream",
     "text": [
      "100%|██████████| 71/71 [00:28<00:00,  2.52it/s]\n",
      "  0%|          | 0/11 [00:00<?, ?it/s]"
     ]
    },
    {
     "name": "stdout",
     "output_type": "stream",
     "text": [
      "***Training 28.21s => Epoch[5/100]: Loss: 0.00457 PSNR: 23.45259\n",
      "===> Validation\n"
     ]
    },
    {
     "name": "stderr",
     "output_type": "stream",
     "text": [
      "100%|██████████| 11/11 [00:02<00:00,  4.23it/s]\n",
      "  0%|          | 0/71 [00:00<?, ?it/s]"
     ]
    },
    {
     "name": "stdout",
     "output_type": "stream",
     "text": [
      "***Validation 2.72s => Epoch[5/100]: Loss: 0.00338 PSNR: 25.18685\n",
      "Checkpoint saved to /content/gdrive/My Drive/div2k_100/checkpoint_dir/models_epoch_0005_loss_0.003377.pth\n",
      "===> Training\n"
     ]
    },
    {
     "name": "stderr",
     "output_type": "stream",
     "text": [
      "100%|██████████| 71/71 [00:28<00:00,  2.52it/s]\n",
      "  0%|          | 0/11 [00:00<?, ?it/s]"
     ]
    },
    {
     "name": "stdout",
     "output_type": "stream",
     "text": [
      "***Training 28.13s => Epoch[6/100]: Loss: 0.00421 PSNR: 23.80942\n",
      "===> Validation\n"
     ]
    },
    {
     "name": "stderr",
     "output_type": "stream",
     "text": [
      "100%|██████████| 11/11 [00:02<00:00,  4.22it/s]\n",
      "  0%|          | 0/71 [00:00<?, ?it/s]"
     ]
    },
    {
     "name": "stdout",
     "output_type": "stream",
     "text": [
      "***Validation 2.74s => Epoch[6/100]: Loss: 0.00314 PSNR: 25.54046\n",
      "Checkpoint saved to /content/gdrive/My Drive/div2k_100/checkpoint_dir/models_epoch_0006_loss_0.003136.pth\n",
      "===> Training\n"
     ]
    },
    {
     "name": "stderr",
     "output_type": "stream",
     "text": [
      "100%|██████████| 71/71 [00:28<00:00,  2.53it/s]\n",
      "  0%|          | 0/11 [00:00<?, ?it/s]"
     ]
    },
    {
     "name": "stdout",
     "output_type": "stream",
     "text": [
      "***Training 28.11s => Epoch[7/100]: Loss: 0.00395 PSNR: 24.09914\n",
      "===> Validation\n"
     ]
    },
    {
     "name": "stderr",
     "output_type": "stream",
     "text": [
      "100%|██████████| 11/11 [00:02<00:00,  4.21it/s]\n",
      "  0%|          | 0/71 [00:00<?, ?it/s]"
     ]
    },
    {
     "name": "stdout",
     "output_type": "stream",
     "text": [
      "***Validation 2.74s => Epoch[7/100]: Loss: 0.00296 PSNR: 25.81923\n",
      "Checkpoint saved to /content/gdrive/My Drive/div2k_100/checkpoint_dir/models_epoch_0007_loss_0.002961.pth\n",
      "===> Training\n"
     ]
    },
    {
     "name": "stderr",
     "output_type": "stream",
     "text": [
      "100%|██████████| 71/71 [00:28<00:00,  2.52it/s]\n",
      "  0%|          | 0/11 [00:00<?, ?it/s]"
     ]
    },
    {
     "name": "stdout",
     "output_type": "stream",
     "text": [
      "***Training 28.22s => Epoch[8/100]: Loss: 0.00378 PSNR: 24.28317\n",
      "===> Validation\n"
     ]
    },
    {
     "name": "stderr",
     "output_type": "stream",
     "text": [
      "100%|██████████| 11/11 [00:02<00:00,  4.21it/s]\n",
      "  0%|          | 0/71 [00:00<?, ?it/s]"
     ]
    },
    {
     "name": "stdout",
     "output_type": "stream",
     "text": [
      "***Validation 2.74s => Epoch[8/100]: Loss: 0.00285 PSNR: 26.01188\n",
      "Checkpoint saved to /content/gdrive/My Drive/div2k_100/checkpoint_dir/models_epoch_0008_loss_0.002848.pth\n",
      "===> Training\n"
     ]
    },
    {
     "name": "stderr",
     "output_type": "stream",
     "text": [
      "100%|██████████| 71/71 [00:28<00:00,  2.53it/s]\n",
      "  0%|          | 0/11 [00:00<?, ?it/s]"
     ]
    },
    {
     "name": "stdout",
     "output_type": "stream",
     "text": [
      "***Training 28.11s => Epoch[9/100]: Loss: 0.00362 PSNR: 24.47476\n",
      "===> Validation\n"
     ]
    },
    {
     "name": "stderr",
     "output_type": "stream",
     "text": [
      "100%|██████████| 11/11 [00:02<00:00,  4.23it/s]\n",
      "  0%|          | 0/71 [00:00<?, ?it/s]"
     ]
    },
    {
     "name": "stdout",
     "output_type": "stream",
     "text": [
      "***Validation 2.72s => Epoch[9/100]: Loss: 0.00276 PSNR: 26.16361\n",
      "Checkpoint saved to /content/gdrive/My Drive/div2k_100/checkpoint_dir/models_epoch_0009_loss_0.002763.pth\n",
      "===> Training\n"
     ]
    },
    {
     "name": "stderr",
     "output_type": "stream",
     "text": [
      "100%|██████████| 71/71 [00:28<00:00,  2.53it/s]\n",
      "  0%|          | 0/11 [00:00<?, ?it/s]"
     ]
    },
    {
     "name": "stdout",
     "output_type": "stream",
     "text": [
      "***Training 28.09s => Epoch[10/100]: Loss: 0.00355 PSNR: 24.56139\n",
      "===> Validation\n"
     ]
    },
    {
     "name": "stderr",
     "output_type": "stream",
     "text": [
      "100%|██████████| 11/11 [00:02<00:00,  4.27it/s]\n",
      "  0%|          | 0/71 [00:00<?, ?it/s]"
     ]
    },
    {
     "name": "stdout",
     "output_type": "stream",
     "text": [
      "***Validation 2.70s => Epoch[10/100]: Loss: 0.00270 PSNR: 26.27505\n",
      "Checkpoint saved to /content/gdrive/My Drive/div2k_100/checkpoint_dir/models_epoch_0010_loss_0.002703.pth\n",
      "===> Training\n"
     ]
    },
    {
     "name": "stderr",
     "output_type": "stream",
     "text": [
      "100%|██████████| 71/71 [00:27<00:00,  2.54it/s]\n",
      "  0%|          | 0/11 [00:00<?, ?it/s]"
     ]
    },
    {
     "name": "stdout",
     "output_type": "stream",
     "text": [
      "***Training 27.94s => Epoch[11/100]: Loss: 0.00345 PSNR: 24.69253\n",
      "===> Validation\n"
     ]
    },
    {
     "name": "stderr",
     "output_type": "stream",
     "text": [
      "100%|██████████| 11/11 [00:02<00:00,  4.26it/s]\n",
      "  0%|          | 0/71 [00:00<?, ?it/s]"
     ]
    },
    {
     "name": "stdout",
     "output_type": "stream",
     "text": [
      "***Validation 2.70s => Epoch[11/100]: Loss: 0.00264 PSNR: 26.40307\n",
      "Checkpoint saved to /content/gdrive/My Drive/div2k_100/checkpoint_dir/models_epoch_0011_loss_0.002639.pth\n",
      "===> Training\n"
     ]
    },
    {
     "name": "stderr",
     "output_type": "stream",
     "text": [
      "100%|██████████| 71/71 [00:28<00:00,  2.53it/s]\n",
      "  0%|          | 0/11 [00:00<?, ?it/s]"
     ]
    },
    {
     "name": "stdout",
     "output_type": "stream",
     "text": [
      "***Training 28.01s => Epoch[12/100]: Loss: 0.00340 PSNR: 24.74835\n",
      "===> Validation\n"
     ]
    },
    {
     "name": "stderr",
     "output_type": "stream",
     "text": [
      "100%|██████████| 11/11 [00:02<00:00,  4.27it/s]\n",
      "  0%|          | 0/71 [00:00<?, ?it/s]"
     ]
    },
    {
     "name": "stdout",
     "output_type": "stream",
     "text": [
      "***Validation 2.70s => Epoch[12/100]: Loss: 0.00259 PSNR: 26.50906\n",
      "Checkpoint saved to /content/gdrive/My Drive/div2k_100/checkpoint_dir/models_epoch_0012_loss_0.002587.pth\n",
      "===> Training\n"
     ]
    },
    {
     "name": "stderr",
     "output_type": "stream",
     "text": [
      "100%|██████████| 71/71 [00:27<00:00,  2.54it/s]\n",
      "  0%|          | 0/11 [00:00<?, ?it/s]"
     ]
    },
    {
     "name": "stdout",
     "output_type": "stream",
     "text": [
      "***Training 27.99s => Epoch[13/100]: Loss: 0.00333 PSNR: 24.82744\n",
      "===> Validation\n"
     ]
    },
    {
     "name": "stderr",
     "output_type": "stream",
     "text": [
      "100%|██████████| 11/11 [00:02<00:00,  4.27it/s]\n",
      "  0%|          | 0/71 [00:00<?, ?it/s]"
     ]
    },
    {
     "name": "stdout",
     "output_type": "stream",
     "text": [
      "***Validation 2.70s => Epoch[13/100]: Loss: 0.00254 PSNR: 26.59413\n",
      "Checkpoint saved to /content/gdrive/My Drive/div2k_100/checkpoint_dir/models_epoch_0013_loss_0.002544.pth\n",
      "===> Training\n"
     ]
    },
    {
     "name": "stderr",
     "output_type": "stream",
     "text": [
      "100%|██████████| 71/71 [00:27<00:00,  2.54it/s]\n",
      "  0%|          | 0/11 [00:00<?, ?it/s]"
     ]
    },
    {
     "name": "stdout",
     "output_type": "stream",
     "text": [
      "***Training 27.98s => Epoch[14/100]: Loss: 0.00328 PSNR: 24.91047\n",
      "===> Validation\n"
     ]
    },
    {
     "name": "stderr",
     "output_type": "stream",
     "text": [
      "100%|██████████| 11/11 [00:02<00:00,  4.28it/s]\n",
      "  0%|          | 0/71 [00:00<?, ?it/s]"
     ]
    },
    {
     "name": "stdout",
     "output_type": "stream",
     "text": [
      "***Validation 2.70s => Epoch[14/100]: Loss: 0.00251 PSNR: 26.67912\n",
      "Checkpoint saved to /content/gdrive/My Drive/div2k_100/checkpoint_dir/models_epoch_0014_loss_0.002507.pth\n",
      "===> Training\n"
     ]
    },
    {
     "name": "stderr",
     "output_type": "stream",
     "text": [
      "100%|██████████| 71/71 [00:28<00:00,  2.53it/s]\n",
      "  0%|          | 0/11 [00:00<?, ?it/s]"
     ]
    },
    {
     "name": "stdout",
     "output_type": "stream",
     "text": [
      "***Training 28.04s => Epoch[15/100]: Loss: 0.00324 PSNR: 24.95344\n",
      "===> Validation\n"
     ]
    },
    {
     "name": "stderr",
     "output_type": "stream",
     "text": [
      "100%|██████████| 11/11 [00:02<00:00,  4.22it/s]\n",
      "  0%|          | 0/71 [00:00<?, ?it/s]"
     ]
    },
    {
     "name": "stdout",
     "output_type": "stream",
     "text": [
      "***Validation 2.73s => Epoch[15/100]: Loss: 0.00247 PSNR: 26.74848\n",
      "Checkpoint saved to /content/gdrive/My Drive/div2k_100/checkpoint_dir/models_epoch_0015_loss_0.002473.pth\n",
      "===> Training\n"
     ]
    },
    {
     "name": "stderr",
     "output_type": "stream",
     "text": [
      "100%|██████████| 71/71 [00:28<00:00,  2.53it/s]\n",
      "  0%|          | 0/11 [00:00<?, ?it/s]"
     ]
    },
    {
     "name": "stdout",
     "output_type": "stream",
     "text": [
      "***Training 28.04s => Epoch[16/100]: Loss: 0.00326 PSNR: 24.94845\n",
      "===> Validation\n"
     ]
    },
    {
     "name": "stderr",
     "output_type": "stream",
     "text": [
      "100%|██████████| 11/11 [00:02<00:00,  4.28it/s]\n",
      "  0%|          | 0/71 [00:00<?, ?it/s]"
     ]
    },
    {
     "name": "stdout",
     "output_type": "stream",
     "text": [
      "***Validation 2.69s => Epoch[16/100]: Loss: 0.00245 PSNR: 26.80976\n",
      "Checkpoint saved to /content/gdrive/My Drive/div2k_100/checkpoint_dir/models_epoch_0016_loss_0.002447.pth\n",
      "===> Training\n"
     ]
    },
    {
     "name": "stderr",
     "output_type": "stream",
     "text": [
      "100%|██████████| 71/71 [00:27<00:00,  2.54it/s]\n",
      "  0%|          | 0/11 [00:00<?, ?it/s]"
     ]
    },
    {
     "name": "stdout",
     "output_type": "stream",
     "text": [
      "***Training 27.99s => Epoch[17/100]: Loss: 0.00316 PSNR: 25.10527\n",
      "===> Validation\n"
     ]
    },
    {
     "name": "stderr",
     "output_type": "stream",
     "text": [
      "100%|██████████| 11/11 [00:02<00:00,  4.29it/s]\n",
      "  0%|          | 0/71 [00:00<?, ?it/s]"
     ]
    },
    {
     "name": "stdout",
     "output_type": "stream",
     "text": [
      "***Validation 2.69s => Epoch[17/100]: Loss: 0.00242 PSNR: 26.86594\n",
      "Checkpoint saved to /content/gdrive/My Drive/div2k_100/checkpoint_dir/models_epoch_0017_loss_0.002422.pth\n",
      "===> Training\n"
     ]
    },
    {
     "name": "stderr",
     "output_type": "stream",
     "text": [
      "100%|██████████| 71/71 [00:27<00:00,  2.54it/s]\n",
      "  0%|          | 0/11 [00:00<?, ?it/s]"
     ]
    },
    {
     "name": "stdout",
     "output_type": "stream",
     "text": [
      "***Training 27.98s => Epoch[18/100]: Loss: 0.00315 PSNR: 25.09375\n",
      "===> Validation\n"
     ]
    },
    {
     "name": "stderr",
     "output_type": "stream",
     "text": [
      "100%|██████████| 11/11 [00:02<00:00,  4.26it/s]\n",
      "  0%|          | 0/71 [00:00<?, ?it/s]"
     ]
    },
    {
     "name": "stdout",
     "output_type": "stream",
     "text": [
      "***Validation 2.70s => Epoch[18/100]: Loss: 0.00240 PSNR: 26.91960\n",
      "Checkpoint saved to /content/gdrive/My Drive/div2k_100/checkpoint_dir/models_epoch_0018_loss_0.002397.pth\n",
      "===> Training\n"
     ]
    },
    {
     "name": "stderr",
     "output_type": "stream",
     "text": [
      "100%|██████████| 71/71 [00:27<00:00,  2.54it/s]\n",
      "  0%|          | 0/11 [00:00<?, ?it/s]"
     ]
    },
    {
     "name": "stdout",
     "output_type": "stream",
     "text": [
      "***Training 28.00s => Epoch[19/100]: Loss: 0.00313 PSNR: 25.12305\n",
      "===> Validation\n"
     ]
    },
    {
     "name": "stderr",
     "output_type": "stream",
     "text": [
      "100%|██████████| 11/11 [00:02<00:00,  4.30it/s]\n",
      "  0%|          | 0/71 [00:00<?, ?it/s]"
     ]
    },
    {
     "name": "stdout",
     "output_type": "stream",
     "text": [
      "***Validation 2.69s => Epoch[19/100]: Loss: 0.00238 PSNR: 26.96484\n",
      "Checkpoint saved to /content/gdrive/My Drive/div2k_100/checkpoint_dir/models_epoch_0019_loss_0.002379.pth\n",
      "===> Training\n"
     ]
    },
    {
     "name": "stderr",
     "output_type": "stream",
     "text": [
      "100%|██████████| 71/71 [00:27<00:00,  2.54it/s]\n",
      "  0%|          | 0/11 [00:00<?, ?it/s]"
     ]
    },
    {
     "name": "stdout",
     "output_type": "stream",
     "text": [
      "***Training 27.99s => Epoch[20/100]: Loss: 0.00309 PSNR: 25.18191\n",
      "===> Validation\n"
     ]
    },
    {
     "name": "stderr",
     "output_type": "stream",
     "text": [
      "100%|██████████| 11/11 [00:02<00:00,  4.26it/s]\n",
      "  0%|          | 0/71 [00:00<?, ?it/s]"
     ]
    },
    {
     "name": "stdout",
     "output_type": "stream",
     "text": [
      "***Validation 2.71s => Epoch[20/100]: Loss: 0.00237 PSNR: 26.99464\n",
      "Checkpoint saved to /content/gdrive/My Drive/div2k_100/checkpoint_dir/models_epoch_0020_loss_0.002367.pth\n",
      "===> Training\n"
     ]
    },
    {
     "name": "stderr",
     "output_type": "stream",
     "text": [
      "100%|██████████| 71/71 [00:27<00:00,  2.54it/s]\n",
      "  0%|          | 0/11 [00:00<?, ?it/s]"
     ]
    },
    {
     "name": "stdout",
     "output_type": "stream",
     "text": [
      "***Training 27.98s => Epoch[21/100]: Loss: 0.00308 PSNR: 25.20533\n",
      "===> Validation\n"
     ]
    },
    {
     "name": "stderr",
     "output_type": "stream",
     "text": [
      "100%|██████████| 11/11 [00:02<00:00,  4.28it/s]\n",
      "  0%|          | 0/71 [00:00<?, ?it/s]"
     ]
    },
    {
     "name": "stdout",
     "output_type": "stream",
     "text": [
      "***Validation 2.69s => Epoch[21/100]: Loss: 0.00235 PSNR: 27.02475\n",
      "Checkpoint saved to /content/gdrive/My Drive/div2k_100/checkpoint_dir/models_epoch_0021_loss_0.002352.pth\n",
      "===> Training\n"
     ]
    },
    {
     "name": "stderr",
     "output_type": "stream",
     "text": [
      "100%|██████████| 71/71 [00:27<00:00,  2.54it/s]\n",
      "  0%|          | 0/11 [00:00<?, ?it/s]"
     ]
    },
    {
     "name": "stdout",
     "output_type": "stream",
     "text": [
      "***Training 27.96s => Epoch[22/100]: Loss: 0.00307 PSNR: 25.21576\n",
      "===> Validation\n"
     ]
    },
    {
     "name": "stderr",
     "output_type": "stream",
     "text": [
      "100%|██████████| 11/11 [00:02<00:00,  4.26it/s]\n",
      "  0%|          | 0/71 [00:00<?, ?it/s]"
     ]
    },
    {
     "name": "stdout",
     "output_type": "stream",
     "text": [
      "***Validation 2.70s => Epoch[22/100]: Loss: 0.00233 PSNR: 27.07255\n",
      "Checkpoint saved to /content/gdrive/My Drive/div2k_100/checkpoint_dir/models_epoch_0022_loss_0.002331.pth\n",
      "===> Training\n"
     ]
    },
    {
     "name": "stderr",
     "output_type": "stream",
     "text": [
      "100%|██████████| 71/71 [00:27<00:00,  2.54it/s]\n",
      "  0%|          | 0/11 [00:00<?, ?it/s]"
     ]
    },
    {
     "name": "stdout",
     "output_type": "stream",
     "text": [
      "***Training 27.98s => Epoch[23/100]: Loss: 0.00304 PSNR: 25.22769\n",
      "===> Validation\n"
     ]
    },
    {
     "name": "stderr",
     "output_type": "stream",
     "text": [
      "100%|██████████| 11/11 [00:02<00:00,  4.27it/s]\n",
      "  0%|          | 0/71 [00:00<?, ?it/s]"
     ]
    },
    {
     "name": "stdout",
     "output_type": "stream",
     "text": [
      "***Validation 2.70s => Epoch[23/100]: Loss: 0.00232 PSNR: 27.10717\n",
      "Checkpoint saved to /content/gdrive/My Drive/div2k_100/checkpoint_dir/models_epoch_0023_loss_0.002320.pth\n",
      "===> Training\n"
     ]
    },
    {
     "name": "stderr",
     "output_type": "stream",
     "text": [
      "100%|██████████| 71/71 [00:27<00:00,  2.54it/s]\n",
      "  0%|          | 0/11 [00:00<?, ?it/s]"
     ]
    },
    {
     "name": "stdout",
     "output_type": "stream",
     "text": [
      "***Training 27.98s => Epoch[24/100]: Loss: 0.00303 PSNR: 25.24860\n",
      "===> Validation\n"
     ]
    },
    {
     "name": "stderr",
     "output_type": "stream",
     "text": [
      "100%|██████████| 11/11 [00:02<00:00,  4.29it/s]\n",
      "  0%|          | 0/71 [00:00<?, ?it/s]"
     ]
    },
    {
     "name": "stdout",
     "output_type": "stream",
     "text": [
      "***Validation 2.69s => Epoch[24/100]: Loss: 0.00231 PSNR: 27.12820\n",
      "Checkpoint saved to /content/gdrive/My Drive/div2k_100/checkpoint_dir/models_epoch_0024_loss_0.002310.pth\n",
      "===> Training\n"
     ]
    },
    {
     "name": "stderr",
     "output_type": "stream",
     "text": [
      "100%|██████████| 71/71 [00:28<00:00,  2.54it/s]\n",
      "  0%|          | 0/11 [00:00<?, ?it/s]"
     ]
    },
    {
     "name": "stdout",
     "output_type": "stream",
     "text": [
      "***Training 28.01s => Epoch[25/100]: Loss: 0.00300 PSNR: 25.32175\n",
      "===> Validation\n"
     ]
    },
    {
     "name": "stderr",
     "output_type": "stream",
     "text": [
      "100%|██████████| 11/11 [00:02<00:00,  4.29it/s]\n",
      "  0%|          | 0/71 [00:00<?, ?it/s]"
     ]
    },
    {
     "name": "stdout",
     "output_type": "stream",
     "text": [
      "***Validation 2.69s => Epoch[25/100]: Loss: 0.00230 PSNR: 27.16251\n",
      "Checkpoint saved to /content/gdrive/My Drive/div2k_100/checkpoint_dir/models_epoch_0025_loss_0.002296.pth\n",
      "===> Training\n"
     ]
    },
    {
     "name": "stderr",
     "output_type": "stream",
     "text": [
      "100%|██████████| 71/71 [00:27<00:00,  2.54it/s]\n",
      "  0%|          | 0/11 [00:00<?, ?it/s]"
     ]
    },
    {
     "name": "stdout",
     "output_type": "stream",
     "text": [
      "***Training 27.99s => Epoch[26/100]: Loss: 0.00301 PSNR: 25.27663\n",
      "===> Validation\n"
     ]
    },
    {
     "name": "stderr",
     "output_type": "stream",
     "text": [
      "100%|██████████| 11/11 [00:02<00:00,  4.25it/s]\n",
      "  0%|          | 0/71 [00:00<?, ?it/s]"
     ]
    },
    {
     "name": "stdout",
     "output_type": "stream",
     "text": [
      "***Validation 2.71s => Epoch[26/100]: Loss: 0.00230 PSNR: 27.14975\n",
      "Checkpoint saved to /content/gdrive/My Drive/div2k_100/checkpoint_dir/models_epoch_0026_loss_0.002303.pth\n",
      "===> Training\n"
     ]
    },
    {
     "name": "stderr",
     "output_type": "stream",
     "text": [
      "100%|██████████| 71/71 [00:27<00:00,  2.54it/s]\n",
      "  0%|          | 0/11 [00:00<?, ?it/s]"
     ]
    },
    {
     "name": "stdout",
     "output_type": "stream",
     "text": [
      "***Training 27.96s => Epoch[27/100]: Loss: 0.00302 PSNR: 25.26893\n",
      "===> Validation\n"
     ]
    },
    {
     "name": "stderr",
     "output_type": "stream",
     "text": [
      "100%|██████████| 11/11 [00:02<00:00,  4.28it/s]\n",
      "  0%|          | 0/71 [00:00<?, ?it/s]"
     ]
    },
    {
     "name": "stdout",
     "output_type": "stream",
     "text": [
      "***Validation 2.70s => Epoch[27/100]: Loss: 0.00228 PSNR: 27.19994\n",
      "Checkpoint saved to /content/gdrive/My Drive/div2k_100/checkpoint_dir/models_epoch_0027_loss_0.002280.pth\n",
      "===> Training\n"
     ]
    },
    {
     "name": "stderr",
     "output_type": "stream",
     "text": [
      "100%|██████████| 71/71 [00:27<00:00,  2.54it/s]\n",
      "  0%|          | 0/11 [00:00<?, ?it/s]"
     ]
    },
    {
     "name": "stdout",
     "output_type": "stream",
     "text": [
      "***Training 27.97s => Epoch[28/100]: Loss: 0.00300 PSNR: 25.30421\n",
      "===> Validation\n"
     ]
    },
    {
     "name": "stderr",
     "output_type": "stream",
     "text": [
      "100%|██████████| 11/11 [00:02<00:00,  4.30it/s]\n",
      "  0%|          | 0/71 [00:00<?, ?it/s]"
     ]
    },
    {
     "name": "stdout",
     "output_type": "stream",
     "text": [
      "***Validation 2.68s => Epoch[28/100]: Loss: 0.00231 PSNR: 27.13490\n",
      "Checkpoint saved to /content/gdrive/My Drive/div2k_100/checkpoint_dir/models_epoch_0028_loss_0.002306.pth\n",
      "===> Training\n"
     ]
    },
    {
     "name": "stderr",
     "output_type": "stream",
     "text": [
      "100%|██████████| 71/71 [00:27<00:00,  2.54it/s]\n",
      "  0%|          | 0/11 [00:00<?, ?it/s]"
     ]
    },
    {
     "name": "stdout",
     "output_type": "stream",
     "text": [
      "***Training 27.99s => Epoch[29/100]: Loss: 0.00301 PSNR: 25.29267\n",
      "===> Validation\n"
     ]
    },
    {
     "name": "stderr",
     "output_type": "stream",
     "text": [
      "100%|██████████| 11/11 [00:02<00:00,  4.27it/s]\n",
      "  0%|          | 0/71 [00:00<?, ?it/s]"
     ]
    },
    {
     "name": "stdout",
     "output_type": "stream",
     "text": [
      "***Validation 2.69s => Epoch[29/100]: Loss: 0.00226 PSNR: 27.24919\n",
      "Checkpoint saved to /content/gdrive/My Drive/div2k_100/checkpoint_dir/models_epoch_0029_loss_0.002261.pth\n",
      "===> Training\n"
     ]
    },
    {
     "name": "stderr",
     "output_type": "stream",
     "text": [
      "100%|██████████| 71/71 [00:27<00:00,  2.54it/s]\n",
      "  0%|          | 0/11 [00:00<?, ?it/s]"
     ]
    },
    {
     "name": "stdout",
     "output_type": "stream",
     "text": [
      "***Training 27.99s => Epoch[30/100]: Loss: 0.00296 PSNR: 25.35727\n",
      "===> Validation\n"
     ]
    },
    {
     "name": "stderr",
     "output_type": "stream",
     "text": [
      "100%|██████████| 11/11 [00:02<00:00,  4.26it/s]\n",
      "  0%|          | 0/71 [00:00<?, ?it/s]"
     ]
    },
    {
     "name": "stdout",
     "output_type": "stream",
     "text": [
      "***Validation 2.70s => Epoch[30/100]: Loss: 0.00225 PSNR: 27.26976\n",
      "Checkpoint saved to /content/gdrive/My Drive/div2k_100/checkpoint_dir/models_epoch_0030_loss_0.002253.pth\n",
      "===> Training\n"
     ]
    },
    {
     "name": "stderr",
     "output_type": "stream",
     "text": [
      "100%|██████████| 71/71 [00:28<00:00,  2.54it/s]\n",
      "  0%|          | 0/11 [00:00<?, ?it/s]"
     ]
    },
    {
     "name": "stdout",
     "output_type": "stream",
     "text": [
      "***Training 28.00s => Epoch[31/100]: Loss: 0.00295 PSNR: 25.38372\n",
      "===> Validation\n"
     ]
    },
    {
     "name": "stderr",
     "output_type": "stream",
     "text": [
      "100%|██████████| 11/11 [00:02<00:00,  4.26it/s]\n",
      "  0%|          | 0/71 [00:00<?, ?it/s]"
     ]
    },
    {
     "name": "stdout",
     "output_type": "stream",
     "text": [
      "***Validation 2.71s => Epoch[31/100]: Loss: 0.00224 PSNR: 27.29181\n",
      "Checkpoint saved to /content/gdrive/My Drive/div2k_100/checkpoint_dir/models_epoch_0031_loss_0.002244.pth\n",
      "===> Training\n"
     ]
    },
    {
     "name": "stderr",
     "output_type": "stream",
     "text": [
      "100%|██████████| 71/71 [00:27<00:00,  2.54it/s]\n",
      "  0%|          | 0/11 [00:00<?, ?it/s]"
     ]
    },
    {
     "name": "stdout",
     "output_type": "stream",
     "text": [
      "***Training 27.98s => Epoch[32/100]: Loss: 0.00297 PSNR: 25.33934\n",
      "===> Validation\n"
     ]
    },
    {
     "name": "stderr",
     "output_type": "stream",
     "text": [
      "100%|██████████| 11/11 [00:02<00:00,  4.25it/s]\n",
      "  0%|          | 0/71 [00:00<?, ?it/s]"
     ]
    },
    {
     "name": "stdout",
     "output_type": "stream",
     "text": [
      "***Validation 2.71s => Epoch[32/100]: Loss: 0.00225 PSNR: 27.28128\n",
      "Checkpoint saved to /content/gdrive/My Drive/div2k_100/checkpoint_dir/models_epoch_0032_loss_0.002248.pth\n",
      "===> Training\n"
     ]
    },
    {
     "name": "stderr",
     "output_type": "stream",
     "text": [
      "100%|██████████| 71/71 [00:27<00:00,  2.54it/s]\n",
      "  0%|          | 0/11 [00:00<?, ?it/s]"
     ]
    },
    {
     "name": "stdout",
     "output_type": "stream",
     "text": [
      "***Training 28.00s => Epoch[33/100]: Loss: 0.00294 PSNR: 25.39895\n",
      "===> Validation\n"
     ]
    },
    {
     "name": "stderr",
     "output_type": "stream",
     "text": [
      "100%|██████████| 11/11 [00:02<00:00,  4.20it/s]\n",
      "  0%|          | 0/71 [00:00<?, ?it/s]"
     ]
    },
    {
     "name": "stdout",
     "output_type": "stream",
     "text": [
      "***Validation 2.73s => Epoch[33/100]: Loss: 0.00223 PSNR: 27.31967\n",
      "Checkpoint saved to /content/gdrive/My Drive/div2k_100/checkpoint_dir/models_epoch_0033_loss_0.002233.pth\n",
      "===> Training\n"
     ]
    },
    {
     "name": "stderr",
     "output_type": "stream",
     "text": [
      "100%|██████████| 71/71 [00:27<00:00,  2.54it/s]\n",
      "  0%|          | 0/11 [00:00<?, ?it/s]"
     ]
    },
    {
     "name": "stdout",
     "output_type": "stream",
     "text": [
      "***Training 28.00s => Epoch[34/100]: Loss: 0.00292 PSNR: 25.42062\n",
      "===> Validation\n"
     ]
    },
    {
     "name": "stderr",
     "output_type": "stream",
     "text": [
      "100%|██████████| 11/11 [00:02<00:00,  4.26it/s]\n",
      "  0%|          | 0/71 [00:00<?, ?it/s]"
     ]
    },
    {
     "name": "stdout",
     "output_type": "stream",
     "text": [
      "***Validation 2.71s => Epoch[34/100]: Loss: 0.00222 PSNR: 27.34312\n",
      "Checkpoint saved to /content/gdrive/My Drive/div2k_100/checkpoint_dir/models_epoch_0034_loss_0.002225.pth\n",
      "===> Training\n"
     ]
    },
    {
     "name": "stderr",
     "output_type": "stream",
     "text": [
      "100%|██████████| 71/71 [00:27<00:00,  2.54it/s]\n",
      "  0%|          | 0/11 [00:00<?, ?it/s]"
     ]
    },
    {
     "name": "stdout",
     "output_type": "stream",
     "text": [
      "***Training 27.97s => Epoch[35/100]: Loss: 0.00293 PSNR: 25.38735\n",
      "===> Validation\n"
     ]
    },
    {
     "name": "stderr",
     "output_type": "stream",
     "text": [
      "100%|██████████| 11/11 [00:02<00:00,  4.28it/s]\n",
      "  0%|          | 0/71 [00:00<?, ?it/s]"
     ]
    },
    {
     "name": "stdout",
     "output_type": "stream",
     "text": [
      "***Validation 2.70s => Epoch[35/100]: Loss: 0.00222 PSNR: 27.35776\n",
      "Checkpoint saved to /content/gdrive/My Drive/div2k_100/checkpoint_dir/models_epoch_0035_loss_0.002219.pth\n",
      "===> Training\n"
     ]
    },
    {
     "name": "stderr",
     "output_type": "stream",
     "text": [
      "100%|██████████| 71/71 [00:28<00:00,  2.53it/s]\n",
      "  0%|          | 0/11 [00:00<?, ?it/s]"
     ]
    },
    {
     "name": "stdout",
     "output_type": "stream",
     "text": [
      "***Training 28.02s => Epoch[36/100]: Loss: 0.00290 PSNR: 25.46136\n",
      "===> Validation\n"
     ]
    },
    {
     "name": "stderr",
     "output_type": "stream",
     "text": [
      "100%|██████████| 11/11 [00:02<00:00,  4.24it/s]\n",
      "  0%|          | 0/71 [00:00<?, ?it/s]"
     ]
    },
    {
     "name": "stdout",
     "output_type": "stream",
     "text": [
      "***Validation 2.70s => Epoch[36/100]: Loss: 0.00221 PSNR: 27.37756\n",
      "Checkpoint saved to /content/gdrive/My Drive/div2k_100/checkpoint_dir/models_epoch_0036_loss_0.002211.pth\n",
      "===> Training\n"
     ]
    },
    {
     "name": "stderr",
     "output_type": "stream",
     "text": [
      "100%|██████████| 71/71 [00:27<00:00,  2.54it/s]\n",
      "  0%|          | 0/11 [00:00<?, ?it/s]"
     ]
    },
    {
     "name": "stdout",
     "output_type": "stream",
     "text": [
      "***Training 27.97s => Epoch[37/100]: Loss: 0.00290 PSNR: 25.46052\n",
      "===> Validation\n"
     ]
    },
    {
     "name": "stderr",
     "output_type": "stream",
     "text": [
      "100%|██████████| 11/11 [00:02<00:00,  4.26it/s]\n",
      "  0%|          | 0/71 [00:00<?, ?it/s]"
     ]
    },
    {
     "name": "stdout",
     "output_type": "stream",
     "text": [
      "***Validation 2.71s => Epoch[37/100]: Loss: 0.00221 PSNR: 27.39080\n",
      "Checkpoint saved to /content/gdrive/My Drive/div2k_100/checkpoint_dir/models_epoch_0037_loss_0.002206.pth\n",
      "===> Training\n"
     ]
    },
    {
     "name": "stderr",
     "output_type": "stream",
     "text": [
      "100%|██████████| 71/71 [00:28<00:00,  2.54it/s]\n",
      "  0%|          | 0/11 [00:00<?, ?it/s]"
     ]
    },
    {
     "name": "stdout",
     "output_type": "stream",
     "text": [
      "***Training 28.01s => Epoch[38/100]: Loss: 0.00291 PSNR: 25.44560\n",
      "===> Validation\n"
     ]
    },
    {
     "name": "stderr",
     "output_type": "stream",
     "text": [
      "100%|██████████| 11/11 [00:02<00:00,  4.27it/s]\n",
      "  0%|          | 0/71 [00:00<?, ?it/s]"
     ]
    },
    {
     "name": "stdout",
     "output_type": "stream",
     "text": [
      "***Validation 2.70s => Epoch[38/100]: Loss: 0.00221 PSNR: 27.37716\n",
      "Checkpoint saved to /content/gdrive/My Drive/div2k_100/checkpoint_dir/models_epoch_0038_loss_0.002211.pth\n",
      "===> Training\n"
     ]
    },
    {
     "name": "stderr",
     "output_type": "stream",
     "text": [
      "100%|██████████| 71/71 [00:27<00:00,  2.54it/s]\n",
      "  0%|          | 0/11 [00:00<?, ?it/s]"
     ]
    },
    {
     "name": "stdout",
     "output_type": "stream",
     "text": [
      "***Training 28.00s => Epoch[39/100]: Loss: 0.00290 PSNR: 25.44019\n",
      "===> Validation\n"
     ]
    },
    {
     "name": "stderr",
     "output_type": "stream",
     "text": [
      "100%|██████████| 11/11 [00:02<00:00,  4.27it/s]\n",
      "  0%|          | 0/71 [00:00<?, ?it/s]"
     ]
    },
    {
     "name": "stdout",
     "output_type": "stream",
     "text": [
      "***Validation 2.70s => Epoch[39/100]: Loss: 0.00220 PSNR: 27.41325\n",
      "Checkpoint saved to /content/gdrive/My Drive/div2k_100/checkpoint_dir/models_epoch_0039_loss_0.002198.pth\n",
      "===> Training\n"
     ]
    },
    {
     "name": "stderr",
     "output_type": "stream",
     "text": [
      "100%|██████████| 71/71 [00:27<00:00,  2.54it/s]\n",
      "  0%|          | 0/11 [00:00<?, ?it/s]"
     ]
    },
    {
     "name": "stdout",
     "output_type": "stream",
     "text": [
      "***Training 27.96s => Epoch[40/100]: Loss: 0.00289 PSNR: 25.48705\n",
      "===> Validation\n"
     ]
    },
    {
     "name": "stderr",
     "output_type": "stream",
     "text": [
      "100%|██████████| 11/11 [00:02<00:00,  4.30it/s]\n",
      "  0%|          | 0/71 [00:00<?, ?it/s]"
     ]
    },
    {
     "name": "stdout",
     "output_type": "stream",
     "text": [
      "***Validation 2.68s => Epoch[40/100]: Loss: 0.00219 PSNR: 27.41944\n",
      "Checkpoint saved to /content/gdrive/My Drive/div2k_100/checkpoint_dir/models_epoch_0040_loss_0.002195.pth\n",
      "===> Training\n"
     ]
    },
    {
     "name": "stderr",
     "output_type": "stream",
     "text": [
      "100%|██████████| 71/71 [00:27<00:00,  2.54it/s]\n",
      "  0%|          | 0/11 [00:00<?, ?it/s]"
     ]
    },
    {
     "name": "stdout",
     "output_type": "stream",
     "text": [
      "***Training 27.96s => Epoch[41/100]: Loss: 0.00294 PSNR: 25.43374\n",
      "===> Validation\n"
     ]
    },
    {
     "name": "stderr",
     "output_type": "stream",
     "text": [
      "100%|██████████| 11/11 [00:02<00:00,  4.28it/s]\n",
      "  0%|          | 0/71 [00:00<?, ?it/s]"
     ]
    },
    {
     "name": "stdout",
     "output_type": "stream",
     "text": [
      "***Validation 2.69s => Epoch[41/100]: Loss: 0.00221 PSNR: 27.37547\n",
      "Checkpoint saved to /content/gdrive/My Drive/div2k_100/checkpoint_dir/models_epoch_0041_loss_0.002211.pth\n",
      "===> Training\n"
     ]
    },
    {
     "name": "stderr",
     "output_type": "stream",
     "text": [
      "100%|██████████| 71/71 [00:27<00:00,  2.54it/s]\n",
      "  0%|          | 0/11 [00:00<?, ?it/s]"
     ]
    },
    {
     "name": "stdout",
     "output_type": "stream",
     "text": [
      "***Training 28.00s => Epoch[42/100]: Loss: 0.00290 PSNR: 25.45468\n",
      "===> Validation\n"
     ]
    },
    {
     "name": "stderr",
     "output_type": "stream",
     "text": [
      "100%|██████████| 11/11 [00:02<00:00,  4.29it/s]\n",
      "  0%|          | 0/71 [00:00<?, ?it/s]"
     ]
    },
    {
     "name": "stdout",
     "output_type": "stream",
     "text": [
      "***Validation 2.70s => Epoch[42/100]: Loss: 0.00219 PSNR: 27.43706\n",
      "Checkpoint saved to /content/gdrive/My Drive/div2k_100/checkpoint_dir/models_epoch_0042_loss_0.002189.pth\n",
      "===> Training\n"
     ]
    },
    {
     "name": "stderr",
     "output_type": "stream",
     "text": [
      "100%|██████████| 71/71 [00:27<00:00,  2.54it/s]\n",
      "  0%|          | 0/11 [00:00<?, ?it/s]"
     ]
    },
    {
     "name": "stdout",
     "output_type": "stream",
     "text": [
      "***Training 27.99s => Epoch[43/100]: Loss: 0.00291 PSNR: 25.42075\n",
      "===> Validation\n"
     ]
    },
    {
     "name": "stderr",
     "output_type": "stream",
     "text": [
      "100%|██████████| 11/11 [00:02<00:00,  4.22it/s]\n",
      "  0%|          | 0/71 [00:00<?, ?it/s]"
     ]
    },
    {
     "name": "stdout",
     "output_type": "stream",
     "text": [
      "***Validation 2.73s => Epoch[43/100]: Loss: 0.00219 PSNR: 27.44230\n",
      "Checkpoint saved to /content/gdrive/My Drive/div2k_100/checkpoint_dir/models_epoch_0043_loss_0.002186.pth\n",
      "===> Training\n"
     ]
    },
    {
     "name": "stderr",
     "output_type": "stream",
     "text": [
      "100%|██████████| 71/71 [00:28<00:00,  2.53it/s]\n",
      "  0%|          | 0/11 [00:00<?, ?it/s]"
     ]
    },
    {
     "name": "stdout",
     "output_type": "stream",
     "text": [
      "***Training 28.03s => Epoch[44/100]: Loss: 0.00287 PSNR: 25.51660\n",
      "===> Validation\n"
     ]
    },
    {
     "name": "stderr",
     "output_type": "stream",
     "text": [
      "100%|██████████| 11/11 [00:02<00:00,  4.19it/s]\n",
      "  0%|          | 0/71 [00:00<?, ?it/s]"
     ]
    },
    {
     "name": "stdout",
     "output_type": "stream",
     "text": [
      "***Validation 2.73s => Epoch[44/100]: Loss: 0.00218 PSNR: 27.46272\n",
      "Checkpoint saved to /content/gdrive/My Drive/div2k_100/checkpoint_dir/models_epoch_0044_loss_0.002179.pth\n",
      "===> Training\n"
     ]
    },
    {
     "name": "stderr",
     "output_type": "stream",
     "text": [
      "100%|██████████| 71/71 [00:28<00:00,  2.53it/s]\n",
      "  0%|          | 0/11 [00:00<?, ?it/s]"
     ]
    },
    {
     "name": "stdout",
     "output_type": "stream",
     "text": [
      "***Training 28.08s => Epoch[45/100]: Loss: 0.00289 PSNR: 25.47443\n",
      "===> Validation\n"
     ]
    },
    {
     "name": "stderr",
     "output_type": "stream",
     "text": [
      "100%|██████████| 11/11 [00:02<00:00,  4.25it/s]\n",
      "  0%|          | 0/71 [00:00<?, ?it/s]"
     ]
    },
    {
     "name": "stdout",
     "output_type": "stream",
     "text": [
      "***Validation 2.71s => Epoch[45/100]: Loss: 0.00218 PSNR: 27.47384\n",
      "Checkpoint saved to /content/gdrive/My Drive/div2k_100/checkpoint_dir/models_epoch_0045_loss_0.002175.pth\n",
      "===> Training\n"
     ]
    },
    {
     "name": "stderr",
     "output_type": "stream",
     "text": [
      "100%|██████████| 71/71 [00:27<00:00,  2.54it/s]\n",
      "  0%|          | 0/11 [00:00<?, ?it/s]"
     ]
    },
    {
     "name": "stdout",
     "output_type": "stream",
     "text": [
      "***Training 28.00s => Epoch[46/100]: Loss: 0.00285 PSNR: 25.55673\n",
      "===> Validation\n"
     ]
    },
    {
     "name": "stderr",
     "output_type": "stream",
     "text": [
      "100%|██████████| 11/11 [00:02<00:00,  4.29it/s]\n",
      "  0%|          | 0/71 [00:00<?, ?it/s]"
     ]
    },
    {
     "name": "stdout",
     "output_type": "stream",
     "text": [
      "***Validation 2.69s => Epoch[46/100]: Loss: 0.00217 PSNR: 27.47399\n",
      "Checkpoint saved to /content/gdrive/My Drive/div2k_100/checkpoint_dir/models_epoch_0046_loss_0.002174.pth\n",
      "===> Training\n"
     ]
    },
    {
     "name": "stderr",
     "output_type": "stream",
     "text": [
      "100%|██████████| 71/71 [00:28<00:00,  2.53it/s]\n",
      "  0%|          | 0/11 [00:00<?, ?it/s]"
     ]
    },
    {
     "name": "stdout",
     "output_type": "stream",
     "text": [
      "***Training 28.01s => Epoch[47/100]: Loss: 0.00285 PSNR: 25.51433\n",
      "===> Validation\n"
     ]
    },
    {
     "name": "stderr",
     "output_type": "stream",
     "text": [
      "100%|██████████| 11/11 [00:02<00:00,  4.26it/s]\n",
      "  0%|          | 0/71 [00:00<?, ?it/s]"
     ]
    },
    {
     "name": "stdout",
     "output_type": "stream",
     "text": [
      "***Validation 2.69s => Epoch[47/100]: Loss: 0.00217 PSNR: 27.48062\n",
      "Checkpoint saved to /content/gdrive/My Drive/div2k_100/checkpoint_dir/models_epoch_0047_loss_0.002172.pth\n",
      "===> Training\n"
     ]
    },
    {
     "name": "stderr",
     "output_type": "stream",
     "text": [
      "100%|██████████| 71/71 [00:28<00:00,  2.53it/s]\n",
      "  0%|          | 0/11 [00:00<?, ?it/s]"
     ]
    },
    {
     "name": "stdout",
     "output_type": "stream",
     "text": [
      "***Training 28.04s => Epoch[48/100]: Loss: 0.00286 PSNR: 25.50593\n",
      "===> Validation\n"
     ]
    },
    {
     "name": "stderr",
     "output_type": "stream",
     "text": [
      "100%|██████████| 11/11 [00:02<00:00,  4.33it/s]\n",
      "  0%|          | 0/71 [00:00<?, ?it/s]"
     ]
    },
    {
     "name": "stdout",
     "output_type": "stream",
     "text": [
      "***Validation 2.68s => Epoch[48/100]: Loss: 0.00217 PSNR: 27.49723\n",
      "Checkpoint saved to /content/gdrive/My Drive/div2k_100/checkpoint_dir/models_epoch_0048_loss_0.002167.pth\n",
      "===> Training\n"
     ]
    },
    {
     "name": "stderr",
     "output_type": "stream",
     "text": [
      "100%|██████████| 71/71 [00:28<00:00,  2.53it/s]\n",
      "  0%|          | 0/11 [00:00<?, ?it/s]"
     ]
    },
    {
     "name": "stdout",
     "output_type": "stream",
     "text": [
      "***Training 28.04s => Epoch[49/100]: Loss: 0.00285 PSNR: 25.52493\n",
      "===> Validation\n"
     ]
    },
    {
     "name": "stderr",
     "output_type": "stream",
     "text": [
      "100%|██████████| 11/11 [00:02<00:00,  4.26it/s]\n",
      "  0%|          | 0/71 [00:00<?, ?it/s]"
     ]
    },
    {
     "name": "stdout",
     "output_type": "stream",
     "text": [
      "***Validation 2.71s => Epoch[49/100]: Loss: 0.00217 PSNR: 27.49813\n",
      "Checkpoint saved to /content/gdrive/My Drive/div2k_100/checkpoint_dir/models_epoch_0049_loss_0.002166.pth\n",
      "===> Training\n"
     ]
    },
    {
     "name": "stderr",
     "output_type": "stream",
     "text": [
      "100%|██████████| 71/71 [00:28<00:00,  2.53it/s]\n",
      "  0%|          | 0/11 [00:00<?, ?it/s]"
     ]
    },
    {
     "name": "stdout",
     "output_type": "stream",
     "text": [
      "***Training 28.09s => Epoch[50/100]: Loss: 0.00284 PSNR: 25.55106\n",
      "===> Validation\n"
     ]
    },
    {
     "name": "stderr",
     "output_type": "stream",
     "text": [
      "100%|██████████| 11/11 [00:02<00:00,  4.22it/s]\n",
      "  0%|          | 0/71 [00:00<?, ?it/s]"
     ]
    },
    {
     "name": "stdout",
     "output_type": "stream",
     "text": [
      "***Validation 2.73s => Epoch[50/100]: Loss: 0.00218 PSNR: 27.47082\n",
      "Checkpoint saved to /content/gdrive/My Drive/div2k_100/checkpoint_dir/models_epoch_0050_loss_0.002177.pth\n",
      "===> Training\n"
     ]
    },
    {
     "name": "stderr",
     "output_type": "stream",
     "text": [
      "100%|██████████| 71/71 [00:28<00:00,  2.52it/s]\n",
      "  0%|          | 0/11 [00:00<?, ?it/s]"
     ]
    },
    {
     "name": "stdout",
     "output_type": "stream",
     "text": [
      "***Training 28.21s => Epoch[51/100]: Loss: 0.00288 PSNR: 25.51183\n",
      "===> Validation\n"
     ]
    },
    {
     "name": "stderr",
     "output_type": "stream",
     "text": [
      "100%|██████████| 11/11 [00:02<00:00,  4.24it/s]\n",
      "  0%|          | 0/71 [00:00<?, ?it/s]"
     ]
    },
    {
     "name": "stdout",
     "output_type": "stream",
     "text": [
      "***Validation 2.72s => Epoch[51/100]: Loss: 0.00216 PSNR: 27.51304\n",
      "Checkpoint saved to /content/gdrive/My Drive/div2k_100/checkpoint_dir/models_epoch_0051_loss_0.002160.pth\n",
      "===> Training\n"
     ]
    },
    {
     "name": "stderr",
     "output_type": "stream",
     "text": [
      "100%|██████████| 71/71 [00:28<00:00,  2.52it/s]\n",
      "  0%|          | 0/11 [00:00<?, ?it/s]"
     ]
    },
    {
     "name": "stdout",
     "output_type": "stream",
     "text": [
      "***Training 28.20s => Epoch[52/100]: Loss: 0.00284 PSNR: 25.54194\n",
      "===> Validation\n"
     ]
    },
    {
     "name": "stderr",
     "output_type": "stream",
     "text": [
      "100%|██████████| 11/11 [00:02<00:00,  4.21it/s]\n",
      "  0%|          | 0/71 [00:00<?, ?it/s]"
     ]
    },
    {
     "name": "stdout",
     "output_type": "stream",
     "text": [
      "***Validation 2.73s => Epoch[52/100]: Loss: 0.00216 PSNR: 27.50860\n",
      "Checkpoint saved to /content/gdrive/My Drive/div2k_100/checkpoint_dir/models_epoch_0052_loss_0.002162.pth\n",
      "===> Training\n"
     ]
    },
    {
     "name": "stderr",
     "output_type": "stream",
     "text": [
      "100%|██████████| 71/71 [00:28<00:00,  2.51it/s]\n",
      "  0%|          | 0/11 [00:00<?, ?it/s]"
     ]
    },
    {
     "name": "stdout",
     "output_type": "stream",
     "text": [
      "***Training 28.24s => Epoch[53/100]: Loss: 0.00287 PSNR: 25.52201\n",
      "===> Validation\n"
     ]
    },
    {
     "name": "stderr",
     "output_type": "stream",
     "text": [
      "100%|██████████| 11/11 [00:02<00:00,  4.23it/s]\n",
      "  0%|          | 0/71 [00:00<?, ?it/s]"
     ]
    },
    {
     "name": "stdout",
     "output_type": "stream",
     "text": [
      "***Validation 2.73s => Epoch[53/100]: Loss: 0.00217 PSNR: 27.50157\n",
      "Checkpoint saved to /content/gdrive/My Drive/div2k_100/checkpoint_dir/models_epoch_0053_loss_0.002165.pth\n",
      "===> Training\n"
     ]
    },
    {
     "name": "stderr",
     "output_type": "stream",
     "text": [
      "100%|██████████| 71/71 [00:28<00:00,  2.51it/s]\n",
      "  0%|          | 0/11 [00:00<?, ?it/s]"
     ]
    },
    {
     "name": "stdout",
     "output_type": "stream",
     "text": [
      "***Training 28.29s => Epoch[54/100]: Loss: 0.00287 PSNR: 25.51190\n",
      "===> Validation\n"
     ]
    },
    {
     "name": "stderr",
     "output_type": "stream",
     "text": [
      "100%|██████████| 11/11 [00:02<00:00,  4.22it/s]\n",
      "  0%|          | 0/71 [00:00<?, ?it/s]"
     ]
    },
    {
     "name": "stdout",
     "output_type": "stream",
     "text": [
      "***Validation 2.73s => Epoch[54/100]: Loss: 0.00216 PSNR: 27.50155\n",
      "Checkpoint saved to /content/gdrive/My Drive/div2k_100/checkpoint_dir/models_epoch_0054_loss_0.002165.pth\n",
      "===> Training\n"
     ]
    },
    {
     "name": "stderr",
     "output_type": "stream",
     "text": [
      "100%|██████████| 71/71 [00:28<00:00,  2.51it/s]\n",
      "  0%|          | 0/11 [00:00<?, ?it/s]"
     ]
    },
    {
     "name": "stdout",
     "output_type": "stream",
     "text": [
      "***Training 28.31s => Epoch[55/100]: Loss: 0.00282 PSNR: 25.59220\n",
      "===> Validation\n"
     ]
    },
    {
     "name": "stderr",
     "output_type": "stream",
     "text": [
      "100%|██████████| 11/11 [00:02<00:00,  4.23it/s]\n",
      "  0%|          | 0/71 [00:00<?, ?it/s]"
     ]
    },
    {
     "name": "stdout",
     "output_type": "stream",
     "text": [
      "***Validation 2.74s => Epoch[55/100]: Loss: 0.00216 PSNR: 27.52228\n",
      "Checkpoint saved to /content/gdrive/My Drive/div2k_100/checkpoint_dir/models_epoch_0055_loss_0.002157.pth\n",
      "===> Training\n"
     ]
    },
    {
     "name": "stderr",
     "output_type": "stream",
     "text": [
      "100%|██████████| 71/71 [00:28<00:00,  2.51it/s]\n",
      "  0%|          | 0/11 [00:00<?, ?it/s]"
     ]
    },
    {
     "name": "stdout",
     "output_type": "stream",
     "text": [
      "***Training 28.24s => Epoch[56/100]: Loss: 0.00282 PSNR: 25.60911\n",
      "===> Validation\n"
     ]
    },
    {
     "name": "stderr",
     "output_type": "stream",
     "text": [
      "100%|██████████| 11/11 [00:02<00:00,  4.16it/s]\n",
      "  0%|          | 0/71 [00:00<?, ?it/s]"
     ]
    },
    {
     "name": "stdout",
     "output_type": "stream",
     "text": [
      "***Validation 2.77s => Epoch[56/100]: Loss: 0.00215 PSNR: 27.54852\n",
      "Checkpoint saved to /content/gdrive/My Drive/div2k_100/checkpoint_dir/models_epoch_0056_loss_0.002148.pth\n",
      "===> Training\n"
     ]
    },
    {
     "name": "stderr",
     "output_type": "stream",
     "text": [
      "100%|██████████| 71/71 [00:28<00:00,  2.51it/s]\n",
      "  0%|          | 0/11 [00:00<?, ?it/s]"
     ]
    },
    {
     "name": "stdout",
     "output_type": "stream",
     "text": [
      "***Training 28.27s => Epoch[57/100]: Loss: 0.00286 PSNR: 25.52162\n",
      "===> Validation\n"
     ]
    },
    {
     "name": "stderr",
     "output_type": "stream",
     "text": [
      "100%|██████████| 11/11 [00:02<00:00,  4.19it/s]\n",
      "  0%|          | 0/71 [00:00<?, ?it/s]"
     ]
    },
    {
     "name": "stdout",
     "output_type": "stream",
     "text": [
      "***Validation 2.74s => Epoch[57/100]: Loss: 0.00215 PSNR: 27.54992\n",
      "Checkpoint saved to /content/gdrive/My Drive/div2k_100/checkpoint_dir/models_epoch_0057_loss_0.002148.pth\n",
      "===> Training\n"
     ]
    },
    {
     "name": "stderr",
     "output_type": "stream",
     "text": [
      "100%|██████████| 71/71 [00:28<00:00,  2.51it/s]\n",
      "  0%|          | 0/11 [00:00<?, ?it/s]"
     ]
    },
    {
     "name": "stdout",
     "output_type": "stream",
     "text": [
      "***Training 28.31s => Epoch[58/100]: Loss: 0.00283 PSNR: 25.56037\n",
      "===> Validation\n"
     ]
    },
    {
     "name": "stderr",
     "output_type": "stream",
     "text": [
      "100%|██████████| 11/11 [00:02<00:00,  4.24it/s]\n",
      "  0%|          | 0/71 [00:00<?, ?it/s]"
     ]
    },
    {
     "name": "stdout",
     "output_type": "stream",
     "text": [
      "***Validation 2.73s => Epoch[58/100]: Loss: 0.00216 PSNR: 27.52366\n",
      "Checkpoint saved to /content/gdrive/My Drive/div2k_100/checkpoint_dir/models_epoch_0058_loss_0.002157.pth\n",
      "===> Training\n"
     ]
    },
    {
     "name": "stderr",
     "output_type": "stream",
     "text": [
      "100%|██████████| 71/71 [00:28<00:00,  2.51it/s]\n",
      "  0%|          | 0/11 [00:00<?, ?it/s]"
     ]
    },
    {
     "name": "stdout",
     "output_type": "stream",
     "text": [
      "***Training 28.29s => Epoch[59/100]: Loss: 0.00282 PSNR: 25.58526\n",
      "===> Validation\n"
     ]
    },
    {
     "name": "stderr",
     "output_type": "stream",
     "text": [
      "100%|██████████| 11/11 [00:02<00:00,  4.20it/s]\n",
      "  0%|          | 0/71 [00:00<?, ?it/s]"
     ]
    },
    {
     "name": "stdout",
     "output_type": "stream",
     "text": [
      "***Validation 2.75s => Epoch[59/100]: Loss: 0.00214 PSNR: 27.56010\n",
      "Checkpoint saved to /content/gdrive/My Drive/div2k_100/checkpoint_dir/models_epoch_0059_loss_0.002144.pth\n",
      "===> Training\n"
     ]
    },
    {
     "name": "stderr",
     "output_type": "stream",
     "text": [
      "100%|██████████| 71/71 [00:28<00:00,  2.52it/s]\n",
      "  0%|          | 0/11 [00:00<?, ?it/s]"
     ]
    },
    {
     "name": "stdout",
     "output_type": "stream",
     "text": [
      "***Training 28.23s => Epoch[60/100]: Loss: 0.00283 PSNR: 25.56630\n",
      "===> Validation\n"
     ]
    },
    {
     "name": "stderr",
     "output_type": "stream",
     "text": [
      "100%|██████████| 11/11 [00:02<00:00,  4.22it/s]\n",
      "  0%|          | 0/71 [00:00<?, ?it/s]"
     ]
    },
    {
     "name": "stdout",
     "output_type": "stream",
     "text": [
      "***Validation 2.74s => Epoch[60/100]: Loss: 0.00214 PSNR: 27.56677\n",
      "Checkpoint saved to /content/gdrive/My Drive/div2k_100/checkpoint_dir/models_epoch_0060_loss_0.002141.pth\n",
      "===> Training\n"
     ]
    },
    {
     "name": "stderr",
     "output_type": "stream",
     "text": [
      "100%|██████████| 71/71 [00:28<00:00,  2.51it/s]\n",
      "  0%|          | 0/11 [00:00<?, ?it/s]"
     ]
    },
    {
     "name": "stdout",
     "output_type": "stream",
     "text": [
      "***Training 28.27s => Epoch[61/100]: Loss: 0.00282 PSNR: 25.58055\n",
      "===> Validation\n"
     ]
    },
    {
     "name": "stderr",
     "output_type": "stream",
     "text": [
      "100%|██████████| 11/11 [00:02<00:00,  4.21it/s]\n",
      "  0%|          | 0/71 [00:00<?, ?it/s]"
     ]
    },
    {
     "name": "stdout",
     "output_type": "stream",
     "text": [
      "***Validation 2.73s => Epoch[61/100]: Loss: 0.00214 PSNR: 27.57255\n",
      "Checkpoint saved to /content/gdrive/My Drive/div2k_100/checkpoint_dir/models_epoch_0061_loss_0.002139.pth\n",
      "===> Training\n"
     ]
    },
    {
     "name": "stderr",
     "output_type": "stream",
     "text": [
      "100%|██████████| 71/71 [00:28<00:00,  2.52it/s]\n",
      "  0%|          | 0/11 [00:00<?, ?it/s]"
     ]
    },
    {
     "name": "stdout",
     "output_type": "stream",
     "text": [
      "***Training 28.18s => Epoch[62/100]: Loss: 0.00285 PSNR: 25.52586\n",
      "===> Validation\n"
     ]
    },
    {
     "name": "stderr",
     "output_type": "stream",
     "text": [
      "100%|██████████| 11/11 [00:02<00:00,  4.23it/s]\n",
      "  0%|          | 0/71 [00:00<?, ?it/s]"
     ]
    },
    {
     "name": "stdout",
     "output_type": "stream",
     "text": [
      "***Validation 2.72s => Epoch[62/100]: Loss: 0.00216 PSNR: 27.52409\n",
      "Checkpoint saved to /content/gdrive/My Drive/div2k_100/checkpoint_dir/models_epoch_0062_loss_0.002158.pth\n",
      "===> Training\n"
     ]
    },
    {
     "name": "stderr",
     "output_type": "stream",
     "text": [
      "100%|██████████| 71/71 [00:28<00:00,  2.52it/s]\n",
      "  0%|          | 0/11 [00:00<?, ?it/s]"
     ]
    },
    {
     "name": "stdout",
     "output_type": "stream",
     "text": [
      "***Training 28.17s => Epoch[63/100]: Loss: 0.00281 PSNR: 25.57711\n",
      "===> Validation\n"
     ]
    },
    {
     "name": "stderr",
     "output_type": "stream",
     "text": [
      "100%|██████████| 11/11 [00:02<00:00,  4.25it/s]\n",
      "  0%|          | 0/71 [00:00<?, ?it/s]"
     ]
    },
    {
     "name": "stdout",
     "output_type": "stream",
     "text": [
      "***Validation 2.72s => Epoch[63/100]: Loss: 0.00214 PSNR: 27.56926\n",
      "Checkpoint saved to /content/gdrive/My Drive/div2k_100/checkpoint_dir/models_epoch_0063_loss_0.002140.pth\n",
      "===> Training\n"
     ]
    },
    {
     "name": "stderr",
     "output_type": "stream",
     "text": [
      "100%|██████████| 71/71 [00:28<00:00,  2.52it/s]\n",
      "  0%|          | 0/11 [00:00<?, ?it/s]"
     ]
    },
    {
     "name": "stdout",
     "output_type": "stream",
     "text": [
      "***Training 28.17s => Epoch[64/100]: Loss: 0.00283 PSNR: 25.57905\n",
      "===> Validation\n"
     ]
    },
    {
     "name": "stderr",
     "output_type": "stream",
     "text": [
      "100%|██████████| 11/11 [00:02<00:00,  4.24it/s]\n",
      "  0%|          | 0/71 [00:00<?, ?it/s]"
     ]
    },
    {
     "name": "stdout",
     "output_type": "stream",
     "text": [
      "***Validation 2.73s => Epoch[64/100]: Loss: 0.00214 PSNR: 27.57181\n",
      "Checkpoint saved to /content/gdrive/My Drive/div2k_100/checkpoint_dir/models_epoch_0064_loss_0.002140.pth\n",
      "===> Training\n"
     ]
    },
    {
     "name": "stderr",
     "output_type": "stream",
     "text": [
      "100%|██████████| 71/71 [00:28<00:00,  2.52it/s]\n",
      "  0%|          | 0/11 [00:00<?, ?it/s]"
     ]
    },
    {
     "name": "stdout",
     "output_type": "stream",
     "text": [
      "***Training 28.20s => Epoch[65/100]: Loss: 0.00283 PSNR: 25.55282\n",
      "===> Validation\n"
     ]
    },
    {
     "name": "stderr",
     "output_type": "stream",
     "text": [
      "100%|██████████| 11/11 [00:02<00:00,  4.25it/s]\n",
      "  0%|          | 0/71 [00:00<?, ?it/s]"
     ]
    },
    {
     "name": "stdout",
     "output_type": "stream",
     "text": [
      "***Validation 2.72s => Epoch[65/100]: Loss: 0.00213 PSNR: 27.59461\n",
      "Checkpoint saved to /content/gdrive/My Drive/div2k_100/checkpoint_dir/models_epoch_0065_loss_0.002132.pth\n",
      "===> Training\n"
     ]
    },
    {
     "name": "stderr",
     "output_type": "stream",
     "text": [
      "100%|██████████| 71/71 [00:28<00:00,  2.52it/s]\n",
      "  0%|          | 0/11 [00:00<?, ?it/s]"
     ]
    },
    {
     "name": "stdout",
     "output_type": "stream",
     "text": [
      "***Training 28.17s => Epoch[66/100]: Loss: 0.00279 PSNR: 25.63015\n",
      "===> Validation\n"
     ]
    },
    {
     "name": "stderr",
     "output_type": "stream",
     "text": [
      "100%|██████████| 11/11 [00:02<00:00,  4.21it/s]\n",
      "  0%|          | 0/71 [00:00<?, ?it/s]"
     ]
    },
    {
     "name": "stdout",
     "output_type": "stream",
     "text": [
      "***Validation 2.74s => Epoch[66/100]: Loss: 0.00213 PSNR: 27.59749\n",
      "Checkpoint saved to /content/gdrive/My Drive/div2k_100/checkpoint_dir/models_epoch_0066_loss_0.002131.pth\n",
      "===> Training\n"
     ]
    },
    {
     "name": "stderr",
     "output_type": "stream",
     "text": [
      "100%|██████████| 71/71 [00:28<00:00,  2.52it/s]\n",
      "  0%|          | 0/11 [00:00<?, ?it/s]"
     ]
    },
    {
     "name": "stdout",
     "output_type": "stream",
     "text": [
      "***Training 28.19s => Epoch[67/100]: Loss: 0.00281 PSNR: 25.56702\n",
      "===> Validation\n"
     ]
    },
    {
     "name": "stderr",
     "output_type": "stream",
     "text": [
      "100%|██████████| 11/11 [00:02<00:00,  4.23it/s]\n",
      "  0%|          | 0/71 [00:00<?, ?it/s]"
     ]
    },
    {
     "name": "stdout",
     "output_type": "stream",
     "text": [
      "***Validation 2.72s => Epoch[67/100]: Loss: 0.00213 PSNR: 27.59120\n",
      "Checkpoint saved to /content/gdrive/My Drive/div2k_100/checkpoint_dir/models_epoch_0067_loss_0.002133.pth\n",
      "===> Training\n"
     ]
    },
    {
     "name": "stderr",
     "output_type": "stream",
     "text": [
      "100%|██████████| 71/71 [00:28<00:00,  2.52it/s]\n",
      "  0%|          | 0/11 [00:00<?, ?it/s]"
     ]
    },
    {
     "name": "stdout",
     "output_type": "stream",
     "text": [
      "***Training 28.18s => Epoch[68/100]: Loss: 0.00286 PSNR: 25.55543\n",
      "===> Validation\n"
     ]
    },
    {
     "name": "stderr",
     "output_type": "stream",
     "text": [
      "100%|██████████| 11/11 [00:02<00:00,  4.25it/s]\n",
      "  0%|          | 0/71 [00:00<?, ?it/s]"
     ]
    },
    {
     "name": "stdout",
     "output_type": "stream",
     "text": [
      "***Validation 2.72s => Epoch[68/100]: Loss: 0.00213 PSNR: 27.60253\n",
      "Checkpoint saved to /content/gdrive/My Drive/div2k_100/checkpoint_dir/models_epoch_0068_loss_0.002128.pth\n",
      "===> Training\n"
     ]
    },
    {
     "name": "stderr",
     "output_type": "stream",
     "text": [
      "100%|██████████| 71/71 [00:28<00:00,  2.51it/s]\n",
      "  0%|          | 0/11 [00:00<?, ?it/s]"
     ]
    },
    {
     "name": "stdout",
     "output_type": "stream",
     "text": [
      "***Training 28.23s => Epoch[69/100]: Loss: 0.00279 PSNR: 25.61605\n",
      "===> Validation\n"
     ]
    },
    {
     "name": "stderr",
     "output_type": "stream",
     "text": [
      "100%|██████████| 11/11 [00:02<00:00,  4.26it/s]\n",
      "  0%|          | 0/71 [00:00<?, ?it/s]"
     ]
    },
    {
     "name": "stdout",
     "output_type": "stream",
     "text": [
      "***Validation 2.71s => Epoch[69/100]: Loss: 0.00213 PSNR: 27.60426\n",
      "Checkpoint saved to /content/gdrive/My Drive/div2k_100/checkpoint_dir/models_epoch_0069_loss_0.002128.pth\n",
      "===> Training\n"
     ]
    },
    {
     "name": "stderr",
     "output_type": "stream",
     "text": [
      "100%|██████████| 71/71 [00:28<00:00,  2.52it/s]\n",
      "  0%|          | 0/11 [00:00<?, ?it/s]"
     ]
    },
    {
     "name": "stdout",
     "output_type": "stream",
     "text": [
      "***Training 28.18s => Epoch[70/100]: Loss: 0.00281 PSNR: 25.58347\n",
      "===> Validation\n"
     ]
    },
    {
     "name": "stderr",
     "output_type": "stream",
     "text": [
      "100%|██████████| 11/11 [00:02<00:00,  4.23it/s]\n",
      "  0%|          | 0/71 [00:00<?, ?it/s]"
     ]
    },
    {
     "name": "stdout",
     "output_type": "stream",
     "text": [
      "***Validation 2.72s => Epoch[70/100]: Loss: 0.00213 PSNR: 27.58845\n",
      "Checkpoint saved to /content/gdrive/My Drive/div2k_100/checkpoint_dir/models_epoch_0070_loss_0.002133.pth\n",
      "===> Training\n"
     ]
    },
    {
     "name": "stderr",
     "output_type": "stream",
     "text": [
      "100%|██████████| 71/71 [00:28<00:00,  2.52it/s]\n",
      "  0%|          | 0/11 [00:00<?, ?it/s]"
     ]
    },
    {
     "name": "stdout",
     "output_type": "stream",
     "text": [
      "***Training 28.18s => Epoch[71/100]: Loss: 0.00279 PSNR: 25.60601\n",
      "===> Validation\n"
     ]
    },
    {
     "name": "stderr",
     "output_type": "stream",
     "text": [
      "100%|██████████| 11/11 [00:02<00:00,  4.24it/s]\n",
      "  0%|          | 0/71 [00:00<?, ?it/s]"
     ]
    },
    {
     "name": "stdout",
     "output_type": "stream",
     "text": [
      "***Validation 2.72s => Epoch[71/100]: Loss: 0.00213 PSNR: 27.59525\n",
      "Checkpoint saved to /content/gdrive/My Drive/div2k_100/checkpoint_dir/models_epoch_0071_loss_0.002131.pth\n",
      "===> Training\n"
     ]
    },
    {
     "name": "stderr",
     "output_type": "stream",
     "text": [
      "100%|██████████| 71/71 [00:28<00:00,  2.52it/s]\n",
      "  0%|          | 0/11 [00:00<?, ?it/s]"
     ]
    },
    {
     "name": "stdout",
     "output_type": "stream",
     "text": [
      "***Training 28.18s => Epoch[72/100]: Loss: 0.00283 PSNR: 25.56907\n",
      "===> Validation\n"
     ]
    },
    {
     "name": "stderr",
     "output_type": "stream",
     "text": [
      "100%|██████████| 11/11 [00:02<00:00,  4.24it/s]\n",
      "  0%|          | 0/71 [00:00<?, ?it/s]"
     ]
    },
    {
     "name": "stdout",
     "output_type": "stream",
     "text": [
      "***Validation 2.72s => Epoch[72/100]: Loss: 0.00212 PSNR: 27.61729\n",
      "Checkpoint saved to /content/gdrive/My Drive/div2k_100/checkpoint_dir/models_epoch_0072_loss_0.002123.pth\n",
      "===> Training\n"
     ]
    },
    {
     "name": "stderr",
     "output_type": "stream",
     "text": [
      "100%|██████████| 71/71 [00:28<00:00,  2.52it/s]\n",
      "  0%|          | 0/11 [00:00<?, ?it/s]"
     ]
    },
    {
     "name": "stdout",
     "output_type": "stream",
     "text": [
      "***Training 28.15s => Epoch[73/100]: Loss: 0.00279 PSNR: 25.61619\n",
      "===> Validation\n"
     ]
    },
    {
     "name": "stderr",
     "output_type": "stream",
     "text": [
      "100%|██████████| 11/11 [00:02<00:00,  4.25it/s]\n",
      "  0%|          | 0/71 [00:00<?, ?it/s]"
     ]
    },
    {
     "name": "stdout",
     "output_type": "stream",
     "text": [
      "***Validation 2.71s => Epoch[73/100]: Loss: 0.00212 PSNR: 27.62678\n",
      "Checkpoint saved to /content/gdrive/My Drive/div2k_100/checkpoint_dir/models_epoch_0073_loss_0.002120.pth\n",
      "===> Training\n"
     ]
    },
    {
     "name": "stderr",
     "output_type": "stream",
     "text": [
      "100%|██████████| 71/71 [00:28<00:00,  2.52it/s]\n",
      "  0%|          | 0/11 [00:00<?, ?it/s]"
     ]
    },
    {
     "name": "stdout",
     "output_type": "stream",
     "text": [
      "***Training 28.20s => Epoch[74/100]: Loss: 0.00279 PSNR: 25.60853\n",
      "===> Validation\n"
     ]
    },
    {
     "name": "stderr",
     "output_type": "stream",
     "text": [
      "100%|██████████| 11/11 [00:02<00:00,  4.22it/s]\n",
      "  0%|          | 0/71 [00:00<?, ?it/s]"
     ]
    },
    {
     "name": "stdout",
     "output_type": "stream",
     "text": [
      "***Validation 2.72s => Epoch[74/100]: Loss: 0.00213 PSNR: 27.59881\n",
      "Checkpoint saved to /content/gdrive/My Drive/div2k_100/checkpoint_dir/models_epoch_0074_loss_0.002129.pth\n",
      "===> Training\n"
     ]
    },
    {
     "name": "stderr",
     "output_type": "stream",
     "text": [
      "100%|██████████| 71/71 [00:28<00:00,  2.52it/s]\n",
      "  0%|          | 0/11 [00:00<?, ?it/s]"
     ]
    },
    {
     "name": "stdout",
     "output_type": "stream",
     "text": [
      "***Training 28.19s => Epoch[75/100]: Loss: 0.00280 PSNR: 25.58823\n",
      "===> Validation\n"
     ]
    },
    {
     "name": "stderr",
     "output_type": "stream",
     "text": [
      "100%|██████████| 11/11 [00:02<00:00,  4.23it/s]\n",
      "  0%|          | 0/71 [00:00<?, ?it/s]"
     ]
    },
    {
     "name": "stdout",
     "output_type": "stream",
     "text": [
      "***Validation 2.72s => Epoch[75/100]: Loss: 0.00212 PSNR: 27.63581\n",
      "Checkpoint saved to /content/gdrive/My Drive/div2k_100/checkpoint_dir/models_epoch_0075_loss_0.002117.pth\n",
      "===> Training\n"
     ]
    },
    {
     "name": "stderr",
     "output_type": "stream",
     "text": [
      "100%|██████████| 71/71 [00:28<00:00,  2.52it/s]\n",
      "  0%|          | 0/11 [00:00<?, ?it/s]"
     ]
    },
    {
     "name": "stdout",
     "output_type": "stream",
     "text": [
      "***Training 28.15s => Epoch[76/100]: Loss: 0.00279 PSNR: 25.63017\n",
      "===> Validation\n"
     ]
    },
    {
     "name": "stderr",
     "output_type": "stream",
     "text": [
      "100%|██████████| 11/11 [00:02<00:00,  4.22it/s]\n",
      "  0%|          | 0/71 [00:00<?, ?it/s]"
     ]
    },
    {
     "name": "stdout",
     "output_type": "stream",
     "text": [
      "***Validation 2.74s => Epoch[76/100]: Loss: 0.00213 PSNR: 27.60064\n",
      "Checkpoint saved to /content/gdrive/My Drive/div2k_100/checkpoint_dir/models_epoch_0076_loss_0.002130.pth\n",
      "===> Training\n"
     ]
    },
    {
     "name": "stderr",
     "output_type": "stream",
     "text": [
      "100%|██████████| 71/71 [00:28<00:00,  2.52it/s]\n",
      "  0%|          | 0/11 [00:00<?, ?it/s]"
     ]
    },
    {
     "name": "stdout",
     "output_type": "stream",
     "text": [
      "***Training 28.19s => Epoch[77/100]: Loss: 0.00285 PSNR: 25.58184\n",
      "===> Validation\n"
     ]
    },
    {
     "name": "stderr",
     "output_type": "stream",
     "text": [
      "100%|██████████| 11/11 [00:02<00:00,  4.24it/s]\n",
      "  0%|          | 0/71 [00:00<?, ?it/s]"
     ]
    },
    {
     "name": "stdout",
     "output_type": "stream",
     "text": [
      "***Validation 2.73s => Epoch[77/100]: Loss: 0.00211 PSNR: 27.64385\n",
      "Checkpoint saved to /content/gdrive/My Drive/div2k_100/checkpoint_dir/models_epoch_0077_loss_0.002114.pth\n",
      "===> Training\n"
     ]
    },
    {
     "name": "stderr",
     "output_type": "stream",
     "text": [
      "100%|██████████| 71/71 [00:28<00:00,  2.52it/s]\n",
      "  0%|          | 0/11 [00:00<?, ?it/s]"
     ]
    },
    {
     "name": "stdout",
     "output_type": "stream",
     "text": [
      "***Training 28.16s => Epoch[78/100]: Loss: 0.00281 PSNR: 25.60659\n",
      "===> Validation\n"
     ]
    },
    {
     "name": "stderr",
     "output_type": "stream",
     "text": [
      "100%|██████████| 11/11 [00:02<00:00,  4.23it/s]\n",
      "  0%|          | 0/71 [00:00<?, ?it/s]"
     ]
    },
    {
     "name": "stdout",
     "output_type": "stream",
     "text": [
      "***Validation 2.73s => Epoch[78/100]: Loss: 0.00211 PSNR: 27.64330\n",
      "Checkpoint saved to /content/gdrive/My Drive/div2k_100/checkpoint_dir/models_epoch_0078_loss_0.002115.pth\n",
      "===> Training\n"
     ]
    },
    {
     "name": "stderr",
     "output_type": "stream",
     "text": [
      "100%|██████████| 71/71 [00:28<00:00,  2.52it/s]\n",
      "  0%|          | 0/11 [00:00<?, ?it/s]"
     ]
    },
    {
     "name": "stdout",
     "output_type": "stream",
     "text": [
      "***Training 28.15s => Epoch[79/100]: Loss: 0.00280 PSNR: 25.59848\n",
      "===> Validation\n"
     ]
    },
    {
     "name": "stderr",
     "output_type": "stream",
     "text": [
      "100%|██████████| 11/11 [00:02<00:00,  4.24it/s]\n",
      "  0%|          | 0/71 [00:00<?, ?it/s]"
     ]
    },
    {
     "name": "stdout",
     "output_type": "stream",
     "text": [
      "***Validation 2.72s => Epoch[79/100]: Loss: 0.00211 PSNR: 27.64836\n",
      "Checkpoint saved to /content/gdrive/My Drive/div2k_100/checkpoint_dir/models_epoch_0079_loss_0.002113.pth\n",
      "===> Training\n"
     ]
    },
    {
     "name": "stderr",
     "output_type": "stream",
     "text": [
      "100%|██████████| 71/71 [00:28<00:00,  2.52it/s]\n",
      "  0%|          | 0/11 [00:00<?, ?it/s]"
     ]
    },
    {
     "name": "stdout",
     "output_type": "stream",
     "text": [
      "***Training 28.12s => Epoch[80/100]: Loss: 0.00279 PSNR: 25.61087\n",
      "===> Validation\n"
     ]
    },
    {
     "name": "stderr",
     "output_type": "stream",
     "text": [
      "100%|██████████| 11/11 [00:02<00:00,  4.22it/s]\n",
      "  0%|          | 0/71 [00:00<?, ?it/s]"
     ]
    },
    {
     "name": "stdout",
     "output_type": "stream",
     "text": [
      "***Validation 2.73s => Epoch[80/100]: Loss: 0.00211 PSNR: 27.64846\n",
      "Checkpoint saved to /content/gdrive/My Drive/div2k_100/checkpoint_dir/models_epoch_0080_loss_0.002113.pth\n",
      "===> Training\n"
     ]
    },
    {
     "name": "stderr",
     "output_type": "stream",
     "text": [
      "100%|██████████| 71/71 [00:28<00:00,  2.52it/s]\n",
      "  0%|          | 0/11 [00:00<?, ?it/s]"
     ]
    },
    {
     "name": "stdout",
     "output_type": "stream",
     "text": [
      "***Training 28.17s => Epoch[81/100]: Loss: 0.00277 PSNR: 25.65232\n",
      "===> Validation\n"
     ]
    },
    {
     "name": "stderr",
     "output_type": "stream",
     "text": [
      "100%|██████████| 11/11 [00:02<00:00,  4.23it/s]\n",
      "  0%|          | 0/71 [00:00<?, ?it/s]"
     ]
    },
    {
     "name": "stdout",
     "output_type": "stream",
     "text": [
      "***Validation 2.73s => Epoch[81/100]: Loss: 0.00212 PSNR: 27.62575\n",
      "Checkpoint saved to /content/gdrive/My Drive/div2k_100/checkpoint_dir/models_epoch_0081_loss_0.002120.pth\n",
      "===> Training\n"
     ]
    },
    {
     "name": "stderr",
     "output_type": "stream",
     "text": [
      "100%|██████████| 71/71 [00:28<00:00,  2.52it/s]\n",
      "  0%|          | 0/11 [00:00<?, ?it/s]"
     ]
    },
    {
     "name": "stdout",
     "output_type": "stream",
     "text": [
      "***Training 28.17s => Epoch[82/100]: Loss: 0.00279 PSNR: 25.61626\n",
      "===> Validation\n"
     ]
    },
    {
     "name": "stderr",
     "output_type": "stream",
     "text": [
      "100%|██████████| 11/11 [00:02<00:00,  4.20it/s]\n",
      "  0%|          | 0/71 [00:00<?, ?it/s]"
     ]
    },
    {
     "name": "stdout",
     "output_type": "stream",
     "text": [
      "***Validation 2.74s => Epoch[82/100]: Loss: 0.00213 PSNR: 27.58949\n",
      "Checkpoint saved to /content/gdrive/My Drive/div2k_100/checkpoint_dir/models_epoch_0082_loss_0.002135.pth\n",
      "===> Training\n"
     ]
    },
    {
     "name": "stderr",
     "output_type": "stream",
     "text": [
      "100%|██████████| 71/71 [00:28<00:00,  2.52it/s]\n",
      "  0%|          | 0/11 [00:00<?, ?it/s]"
     ]
    },
    {
     "name": "stdout",
     "output_type": "stream",
     "text": [
      "***Training 28.15s => Epoch[83/100]: Loss: 0.00278 PSNR: 25.62482\n",
      "===> Validation\n"
     ]
    },
    {
     "name": "stderr",
     "output_type": "stream",
     "text": [
      "100%|██████████| 11/11 [00:02<00:00,  4.19it/s]\n",
      "  0%|          | 0/71 [00:00<?, ?it/s]"
     ]
    },
    {
     "name": "stdout",
     "output_type": "stream",
     "text": [
      "***Validation 2.73s => Epoch[83/100]: Loss: 0.00211 PSNR: 27.65152\n",
      "Checkpoint saved to /content/gdrive/My Drive/div2k_100/checkpoint_dir/models_epoch_0083_loss_0.002112.pth\n",
      "===> Training\n"
     ]
    },
    {
     "name": "stderr",
     "output_type": "stream",
     "text": [
      "100%|██████████| 71/71 [00:28<00:00,  2.52it/s]\n",
      "  0%|          | 0/11 [00:00<?, ?it/s]"
     ]
    },
    {
     "name": "stdout",
     "output_type": "stream",
     "text": [
      "***Training 28.13s => Epoch[84/100]: Loss: 0.00277 PSNR: 25.66040\n",
      "===> Validation\n"
     ]
    },
    {
     "name": "stderr",
     "output_type": "stream",
     "text": [
      "100%|██████████| 11/11 [00:02<00:00,  4.22it/s]\n",
      "  0%|          | 0/71 [00:00<?, ?it/s]"
     ]
    },
    {
     "name": "stdout",
     "output_type": "stream",
     "text": [
      "***Validation 2.72s => Epoch[84/100]: Loss: 0.00211 PSNR: 27.64519\n",
      "Checkpoint saved to /content/gdrive/My Drive/div2k_100/checkpoint_dir/models_epoch_0084_loss_0.002114.pth\n",
      "===> Training\n"
     ]
    },
    {
     "name": "stderr",
     "output_type": "stream",
     "text": [
      "100%|██████████| 71/71 [00:28<00:00,  2.52it/s]\n",
      "  0%|          | 0/11 [00:00<?, ?it/s]"
     ]
    },
    {
     "name": "stdout",
     "output_type": "stream",
     "text": [
      "***Training 28.13s => Epoch[85/100]: Loss: 0.00281 PSNR: 25.59530\n",
      "===> Validation\n"
     ]
    },
    {
     "name": "stderr",
     "output_type": "stream",
     "text": [
      "100%|██████████| 11/11 [00:02<00:00,  4.20it/s]\n",
      "  0%|          | 0/71 [00:00<?, ?it/s]"
     ]
    },
    {
     "name": "stdout",
     "output_type": "stream",
     "text": [
      "***Validation 2.73s => Epoch[85/100]: Loss: 0.00211 PSNR: 27.66363\n",
      "Checkpoint saved to /content/gdrive/My Drive/div2k_100/checkpoint_dir/models_epoch_0085_loss_0.002108.pth\n",
      "===> Training\n"
     ]
    },
    {
     "name": "stderr",
     "output_type": "stream",
     "text": [
      "100%|██████████| 71/71 [00:28<00:00,  2.53it/s]\n",
      "  0%|          | 0/11 [00:00<?, ?it/s]"
     ]
    },
    {
     "name": "stdout",
     "output_type": "stream",
     "text": [
      "***Training 28.06s => Epoch[86/100]: Loss: 0.00278 PSNR: 25.64161\n",
      "===> Validation\n"
     ]
    },
    {
     "name": "stderr",
     "output_type": "stream",
     "text": [
      "100%|██████████| 11/11 [00:02<00:00,  4.24it/s]\n",
      "  0%|          | 0/71 [00:00<?, ?it/s]"
     ]
    },
    {
     "name": "stdout",
     "output_type": "stream",
     "text": [
      "***Validation 2.72s => Epoch[86/100]: Loss: 0.00211 PSNR: 27.65402\n",
      "Checkpoint saved to /content/gdrive/My Drive/div2k_100/checkpoint_dir/models_epoch_0086_loss_0.002111.pth\n",
      "===> Training\n"
     ]
    },
    {
     "name": "stderr",
     "output_type": "stream",
     "text": [
      "100%|██████████| 71/71 [00:28<00:00,  2.52it/s]\n",
      "  0%|          | 0/11 [00:00<?, ?it/s]"
     ]
    },
    {
     "name": "stdout",
     "output_type": "stream",
     "text": [
      "***Training 28.17s => Epoch[87/100]: Loss: 0.00280 PSNR: 25.60608\n",
      "===> Validation\n"
     ]
    },
    {
     "name": "stderr",
     "output_type": "stream",
     "text": [
      "100%|██████████| 11/11 [00:02<00:00,  4.30it/s]\n",
      "  0%|          | 0/71 [00:00<?, ?it/s]"
     ]
    },
    {
     "name": "stdout",
     "output_type": "stream",
     "text": [
      "***Validation 2.70s => Epoch[87/100]: Loss: 0.00211 PSNR: 27.66752\n",
      "Checkpoint saved to /content/gdrive/My Drive/div2k_100/checkpoint_dir/models_epoch_0087_loss_0.002107.pth\n",
      "===> Training\n"
     ]
    },
    {
     "name": "stderr",
     "output_type": "stream",
     "text": [
      "100%|██████████| 71/71 [00:28<00:00,  2.54it/s]\n",
      "  0%|          | 0/11 [00:00<?, ?it/s]"
     ]
    },
    {
     "name": "stdout",
     "output_type": "stream",
     "text": [
      "***Training 28.01s => Epoch[88/100]: Loss: 0.00280 PSNR: 25.61075\n",
      "===> Validation\n"
     ]
    },
    {
     "name": "stderr",
     "output_type": "stream",
     "text": [
      "100%|██████████| 11/11 [00:02<00:00,  4.23it/s]\n",
      "  0%|          | 0/71 [00:00<?, ?it/s]"
     ]
    },
    {
     "name": "stdout",
     "output_type": "stream",
     "text": [
      "***Validation 2.72s => Epoch[88/100]: Loss: 0.00212 PSNR: 27.63779\n",
      "Checkpoint saved to /content/gdrive/My Drive/div2k_100/checkpoint_dir/models_epoch_0088_loss_0.002116.pth\n",
      "===> Training\n"
     ]
    },
    {
     "name": "stderr",
     "output_type": "stream",
     "text": [
      "100%|██████████| 71/71 [00:28<00:00,  2.51it/s]\n",
      "  0%|          | 0/11 [00:00<?, ?it/s]"
     ]
    },
    {
     "name": "stdout",
     "output_type": "stream",
     "text": [
      "***Training 28.28s => Epoch[89/100]: Loss: 0.00279 PSNR: 25.62820\n",
      "===> Validation\n"
     ]
    },
    {
     "name": "stderr",
     "output_type": "stream",
     "text": [
      "100%|██████████| 11/11 [00:02<00:00,  4.24it/s]\n",
      "  0%|          | 0/71 [00:00<?, ?it/s]"
     ]
    },
    {
     "name": "stdout",
     "output_type": "stream",
     "text": [
      "***Validation 2.72s => Epoch[89/100]: Loss: 0.00210 PSNR: 27.67579\n",
      "Checkpoint saved to /content/gdrive/My Drive/div2k_100/checkpoint_dir/models_epoch_0089_loss_0.002104.pth\n",
      "===> Training\n"
     ]
    },
    {
     "name": "stderr",
     "output_type": "stream",
     "text": [
      "100%|██████████| 71/71 [00:28<00:00,  2.52it/s]\n",
      "  0%|          | 0/11 [00:00<?, ?it/s]"
     ]
    },
    {
     "name": "stdout",
     "output_type": "stream",
     "text": [
      "***Training 28.19s => Epoch[90/100]: Loss: 0.00276 PSNR: 25.67495\n",
      "===> Validation\n"
     ]
    },
    {
     "name": "stderr",
     "output_type": "stream",
     "text": [
      "100%|██████████| 11/11 [00:02<00:00,  4.22it/s]\n",
      "  0%|          | 0/71 [00:00<?, ?it/s]"
     ]
    },
    {
     "name": "stdout",
     "output_type": "stream",
     "text": [
      "***Validation 2.73s => Epoch[90/100]: Loss: 0.00210 PSNR: 27.67540\n",
      "Checkpoint saved to /content/gdrive/My Drive/div2k_100/checkpoint_dir/models_epoch_0090_loss_0.002103.pth\n",
      "===> Training\n"
     ]
    },
    {
     "name": "stderr",
     "output_type": "stream",
     "text": [
      "100%|██████████| 71/71 [00:28<00:00,  2.52it/s]\n",
      "  0%|          | 0/11 [00:00<?, ?it/s]"
     ]
    },
    {
     "name": "stdout",
     "output_type": "stream",
     "text": [
      "***Training 28.18s => Epoch[91/100]: Loss: 0.00277 PSNR: 25.66366\n",
      "===> Validation\n"
     ]
    },
    {
     "name": "stderr",
     "output_type": "stream",
     "text": [
      "100%|██████████| 11/11 [00:02<00:00,  4.26it/s]\n",
      "  0%|          | 0/71 [00:00<?, ?it/s]"
     ]
    },
    {
     "name": "stdout",
     "output_type": "stream",
     "text": [
      "***Validation 2.71s => Epoch[91/100]: Loss: 0.00210 PSNR: 27.67614\n",
      "Checkpoint saved to /content/gdrive/My Drive/div2k_100/checkpoint_dir/models_epoch_0091_loss_0.002104.pth\n",
      "===> Training\n"
     ]
    },
    {
     "name": "stderr",
     "output_type": "stream",
     "text": [
      "100%|██████████| 71/71 [00:28<00:00,  2.52it/s]\n",
      "  0%|          | 0/11 [00:00<?, ?it/s]"
     ]
    },
    {
     "name": "stdout",
     "output_type": "stream",
     "text": [
      "***Training 28.14s => Epoch[92/100]: Loss: 0.00276 PSNR: 25.66832\n",
      "===> Validation\n"
     ]
    },
    {
     "name": "stderr",
     "output_type": "stream",
     "text": [
      "100%|██████████| 11/11 [00:02<00:00,  4.23it/s]\n",
      "  0%|          | 0/71 [00:00<?, ?it/s]"
     ]
    },
    {
     "name": "stdout",
     "output_type": "stream",
     "text": [
      "***Validation 2.71s => Epoch[92/100]: Loss: 0.00215 PSNR: 27.55126\n",
      "Checkpoint saved to /content/gdrive/My Drive/div2k_100/checkpoint_dir/models_epoch_0092_loss_0.002147.pth\n",
      "===> Training\n"
     ]
    },
    {
     "name": "stderr",
     "output_type": "stream",
     "text": [
      "100%|██████████| 71/71 [00:28<00:00,  2.52it/s]\n",
      "  0%|          | 0/11 [00:00<?, ?it/s]"
     ]
    },
    {
     "name": "stdout",
     "output_type": "stream",
     "text": [
      "***Training 28.15s => Epoch[93/100]: Loss: 0.00281 PSNR: 25.58818\n",
      "===> Validation\n"
     ]
    },
    {
     "name": "stderr",
     "output_type": "stream",
     "text": [
      "100%|██████████| 11/11 [00:02<00:00,  4.23it/s]\n",
      "  0%|          | 0/71 [00:00<?, ?it/s]"
     ]
    },
    {
     "name": "stdout",
     "output_type": "stream",
     "text": [
      "***Validation 2.72s => Epoch[93/100]: Loss: 0.00210 PSNR: 27.68264\n",
      "Checkpoint saved to /content/gdrive/My Drive/div2k_100/checkpoint_dir/models_epoch_0093_loss_0.002101.pth\n",
      "===> Training\n"
     ]
    },
    {
     "name": "stderr",
     "output_type": "stream",
     "text": [
      "100%|██████████| 71/71 [00:28<00:00,  2.52it/s]\n",
      "  0%|          | 0/11 [00:00<?, ?it/s]"
     ]
    },
    {
     "name": "stdout",
     "output_type": "stream",
     "text": [
      "***Training 28.13s => Epoch[94/100]: Loss: 0.00278 PSNR: 25.63304\n",
      "===> Validation\n"
     ]
    },
    {
     "name": "stderr",
     "output_type": "stream",
     "text": [
      "100%|██████████| 11/11 [00:02<00:00,  4.22it/s]\n",
      "  0%|          | 0/71 [00:00<?, ?it/s]"
     ]
    },
    {
     "name": "stdout",
     "output_type": "stream",
     "text": [
      "***Validation 2.74s => Epoch[94/100]: Loss: 0.00210 PSNR: 27.68217\n",
      "Checkpoint saved to /content/gdrive/My Drive/div2k_100/checkpoint_dir/models_epoch_0094_loss_0.002101.pth\n",
      "===> Training\n"
     ]
    },
    {
     "name": "stderr",
     "output_type": "stream",
     "text": [
      "100%|██████████| 71/71 [00:28<00:00,  2.52it/s]\n",
      "  0%|          | 0/11 [00:00<?, ?it/s]"
     ]
    },
    {
     "name": "stdout",
     "output_type": "stream",
     "text": [
      "***Training 28.13s => Epoch[95/100]: Loss: 0.00276 PSNR: 25.66251\n",
      "===> Validation\n"
     ]
    },
    {
     "name": "stderr",
     "output_type": "stream",
     "text": [
      "100%|██████████| 11/11 [00:02<00:00,  4.23it/s]\n",
      "  0%|          | 0/71 [00:00<?, ?it/s]"
     ]
    },
    {
     "name": "stdout",
     "output_type": "stream",
     "text": [
      "***Validation 2.72s => Epoch[95/100]: Loss: 0.00210 PSNR: 27.69155\n",
      "Checkpoint saved to /content/gdrive/My Drive/div2k_100/checkpoint_dir/models_epoch_0095_loss_0.002098.pth\n",
      "===> Training\n"
     ]
    },
    {
     "name": "stderr",
     "output_type": "stream",
     "text": [
      "100%|██████████| 71/71 [00:28<00:00,  2.53it/s]\n",
      "  0%|          | 0/11 [00:00<?, ?it/s]"
     ]
    },
    {
     "name": "stdout",
     "output_type": "stream",
     "text": [
      "***Training 28.11s => Epoch[96/100]: Loss: 0.00275 PSNR: 25.68708\n",
      "===> Validation\n"
     ]
    },
    {
     "name": "stderr",
     "output_type": "stream",
     "text": [
      "100%|██████████| 11/11 [00:02<00:00,  4.23it/s]\n",
      "  0%|          | 0/71 [00:00<?, ?it/s]"
     ]
    },
    {
     "name": "stdout",
     "output_type": "stream",
     "text": [
      "***Validation 2.72s => Epoch[96/100]: Loss: 0.00210 PSNR: 27.68976\n",
      "Checkpoint saved to /content/gdrive/My Drive/div2k_100/checkpoint_dir/models_epoch_0096_loss_0.002099.pth\n",
      "===> Training\n"
     ]
    },
    {
     "name": "stderr",
     "output_type": "stream",
     "text": [
      "100%|██████████| 71/71 [00:28<00:00,  2.52it/s]\n",
      "  0%|          | 0/11 [00:00<?, ?it/s]"
     ]
    },
    {
     "name": "stdout",
     "output_type": "stream",
     "text": [
      "***Training 28.17s => Epoch[97/100]: Loss: 0.00273 PSNR: 25.80257\n",
      "===> Validation\n"
     ]
    },
    {
     "name": "stderr",
     "output_type": "stream",
     "text": [
      "100%|██████████| 11/11 [00:02<00:00,  4.27it/s]\n",
      "  0%|          | 0/71 [00:00<?, ?it/s]"
     ]
    },
    {
     "name": "stdout",
     "output_type": "stream",
     "text": [
      "***Validation 2.71s => Epoch[97/100]: Loss: 0.00210 PSNR: 27.68237\n",
      "Checkpoint saved to /content/gdrive/My Drive/div2k_100/checkpoint_dir/models_epoch_0097_loss_0.002102.pth\n",
      "===> Training\n"
     ]
    },
    {
     "name": "stderr",
     "output_type": "stream",
     "text": [
      "100%|██████████| 71/71 [00:28<00:00,  2.52it/s]\n",
      "  0%|          | 0/11 [00:00<?, ?it/s]"
     ]
    },
    {
     "name": "stdout",
     "output_type": "stream",
     "text": [
      "***Training 28.14s => Epoch[98/100]: Loss: 0.00277 PSNR: 25.66394\n",
      "===> Validation\n"
     ]
    },
    {
     "name": "stderr",
     "output_type": "stream",
     "text": [
      "100%|██████████| 11/11 [00:02<00:00,  4.24it/s]\n",
      "  0%|          | 0/71 [00:00<?, ?it/s]"
     ]
    },
    {
     "name": "stdout",
     "output_type": "stream",
     "text": [
      "***Validation 2.70s => Epoch[98/100]: Loss: 0.00210 PSNR: 27.69055\n",
      "Checkpoint saved to /content/gdrive/My Drive/div2k_100/checkpoint_dir/models_epoch_0098_loss_0.002099.pth\n",
      "===> Training\n"
     ]
    },
    {
     "name": "stderr",
     "output_type": "stream",
     "text": [
      "100%|██████████| 71/71 [00:28<00:00,  2.52it/s]\n",
      "  0%|          | 0/11 [00:00<?, ?it/s]"
     ]
    },
    {
     "name": "stdout",
     "output_type": "stream",
     "text": [
      "***Training 28.14s => Epoch[99/100]: Loss: 0.00276 PSNR: 25.67591\n",
      "===> Validation\n"
     ]
    },
    {
     "name": "stderr",
     "output_type": "stream",
     "text": [
      "100%|██████████| 11/11 [00:02<00:00,  4.25it/s]"
     ]
    },
    {
     "name": "stdout",
     "output_type": "stream",
     "text": [
      "***Validation 2.71s => Epoch[99/100]: Loss: 0.00211 PSNR: 27.66062\n",
      "Checkpoint saved to /content/gdrive/My Drive/div2k_100/checkpoint_dir/models_epoch_0099_loss_0.002109.pth\n"
     ]
    },
    {
     "name": "stderr",
     "output_type": "stream",
     "text": [
      "\n"
     ]
    }
   ],
   "source": [
    "train_dir = opt.train_dir\n",
    "valid_dir = opt.valid_dir\n",
    "print(\"train_dir is: {}\".format(train_dir))\n",
    "print(\"valid_dir is: {}\".format(valid_dir))\n",
    "\n",
    "target_size = (opt.lr_img * opt.res_scale, opt.lr_img * opt.res_scale)\n",
    "\n",
    "\n",
    "train_dataset = DatasetFromFolder(train_dir, opt.use_npy)\n",
    "valid_dataset = DatasetFromFolder(valid_dir, opt.use_npy)\n",
    "\n",
    "training_data_loader = DataLoader(dataset=train_dataset,\n",
    "                                  batch_size=opt.batch_size,\n",
    "                                  shuffle=True)\n",
    "validation_data_loader = DataLoader(dataset=valid_dataset,\n",
    "                                    batch_size=opt.batch_size,\n",
    "                                    shuffle=False)\n",
    "\n",
    "run_train(opt, training_data_loader, validation_data_loader)"
   ]
  },
  {
   "cell_type": "markdown",
   "metadata": {
    "colab_type": "text",
    "id": "rgXgqBdTA0nk"
   },
   "source": [
    "# Test model\n",
    "We will use PSNR and SSIM metrics to measure how well the model is trained. We can skimage libraries to easily measure two metrics."
   ]
  },
  {
   "cell_type": "code",
   "execution_count": null,
   "metadata": {
    "colab": {},
    "colab_type": "code",
    "id": "xEyL9DLUREnC"
   },
   "outputs": [],
   "source": [
    "from skimage.measure import compare_ssim as ssim\n",
    "from skimage.measure import compare_psnr as psnr"
   ]
  },
  {
   "cell_type": "markdown",
   "metadata": {
    "colab_type": "text",
    "id": "zhQQDJ0uBFyI"
   },
   "source": [
    "# Define test dataset\n",
    "This time, we will not use dataloader of pytorch function. Instead, we will load each image from test data directory."
   ]
  },
  {
   "cell_type": "code",
   "execution_count": null,
   "metadata": {
    "colab": {},
    "colab_type": "code",
    "id": "s1fod6xdREnG"
   },
   "outputs": [],
   "source": [
    "def get_test_dataset(data_dir, res_scale):\n",
    "    lr_dir = os.path.join(data_dir, 'lrx' + str(res_scale))\n",
    "    hr_dir = os.path.join(data_dir, 'hr')\n",
    "        \n",
    "    dsets = {}\n",
    "    lr_list = os.listdir(lr_dir)\n",
    "    hr_list = os.listdir(hr_dir)\n",
    "    lr_list.sort()\n",
    "    hr_list.sort()\n",
    "    dsets['lr'] = [os.path.join(lr_dir, x) for x in lr_list]\n",
    "    dsets['hr'] = [os.path.join(hr_dir, x) for x in hr_list]\n",
    "    dsets['file_name'] = os.listdir(hr_dir)\n",
    "    \n",
    "    return dsets"
   ]
  },
  {
   "cell_type": "markdown",
   "metadata": {
    "colab_type": "text",
    "id": "Bf97hI_RBRqB"
   },
   "source": [
    "# Define your test method of the model"
   ]
  },
  {
   "cell_type": "code",
   "execution_count": null,
   "metadata": {
    "colab": {},
    "colab_type": "code",
    "id": "QOI83FfMREnK"
   },
   "outputs": [],
   "source": [
    "def test_model(opt, test_dataset):\n",
    "    \n",
    "    lr_list = test_dataset['lr']\n",
    "    hr_list = test_dataset['hr']\n",
    "    filename_list = test_dataset['file_name']\n",
    "    \n",
    "    sr_compare_dir = os.path.join(opt.test_result_dir, \"compare\")\n",
    "    sr_result_dir = os.path.join(opt.test_result_dir, \"sr\")\n",
    "\n",
    "    if not os.path.exists(sr_result_dir):\n",
    "        os.makedirs(sr_result_dir)\n",
    "    if not os.path.exists(sr_compare_dir):\n",
    "        os.makedirs(sr_compare_dir)\n",
    "\n",
    "    opt.resume_best = True\n",
    "    _, srcnn = load_model(opt.checkpoint_dir)\n",
    "    criterion = nn.MSELoss()\n",
    "\n",
    "    if torch.cuda.device_count() > 1 and opt.multi_gpu:\n",
    "        print(\"Use \" + str(torch.cuda.device_count()) + \" GPUs\")\n",
    "        srcnn = nn.DataParallel(srcnn)\n",
    "\n",
    "    if opt.use_cuda and torch.cuda.is_available():\n",
    "        opt.use_cuda = True\n",
    "        opt.device = 'cuda'\n",
    "    else:\n",
    "        opt.use_cuda = False\n",
    "        opt.device = 'cpu'\n",
    "\n",
    "    if opt.use_cuda:\n",
    "        srcnn = srcnn.to(opt.device)\n",
    "        criterion = criterion.to(opt.device)\n",
    "\n",
    "    hr_img_sz = (opt.lr_img * opt.res_scale, opt.lr_img * opt.res_scale)\n",
    "    result_img = np.zeros((hr_img_sz[0], hr_img_sz[1] * 3, opt.n_channels))\n",
    "\n",
    "    with torch.no_grad():\n",
    "        total_num = 0\n",
    "        sum_bicubic_psnr = 0.\n",
    "        sum_sr_psnr = 0.\n",
    "        sum_bicubic_ssim = 0.\n",
    "        sum_sr_ssim = 0.\n",
    "        \n",
    "        avg_bicubic_psnr = 0.\n",
    "        avg_sr_psnr = 0.\n",
    "        avg_bicubic_ssim = 0.\n",
    "        avg_sr_ssim = 0.\n",
    "\n",
    "        start_time = time.time()\n",
    "        for batch in zip(lr_list, hr_list, filename_list):\n",
    "            input_path, target_path, file_name = batch[0], batch[1], batch[2]\n",
    "\n",
    "            # print(input_path)\n",
    "            # print(target_path)\n",
    "            \n",
    "            input = cv2.imread(input_path)\n",
    "            target = cv2.imread(target_path)\n",
    "            \n",
    "            input = cv2.resize(input, (target.shape[1], target.shape[0]), interpolation=cv2.INTER_CUBIC)\n",
    "            \n",
    "            input = normalize_img(input)\n",
    "            target = normalize_img(target)\n",
    "            \n",
    "            input = np.transpose(input, (2, 0, 1))\n",
    "            target = np.transpose(target, (2, 0, 1))\n",
    "            \n",
    "            input = input.reshape(1, input.shape[0], input.shape[1], input.shape[2])\n",
    "            target = target.reshape(1, target.shape[0], target.shape[1], target.shape[2])\n",
    "            \n",
    "            input = torch.from_numpy(input).type(torch.FloatTensor)\n",
    "            target = torch.from_numpy(target).type(torch.FloatTensor)\n",
    "\n",
    "            if opt.use_cuda:\n",
    "                input = input.to(opt.device)\n",
    "#                 target = target.to(opt.device)\n",
    "\n",
    "            out = srcnn(input)\n",
    "            \n",
    "            for i in range(input.size(0)): \n",
    "                if opt.use_cuda:\n",
    "                    input_arr = input[i].detach().to('cpu').data.numpy()\n",
    "                    sr_arr = out[i].detach().to('cpu').data.numpy()\n",
    "                else:\n",
    "                    input_arr = input[i].data.numpy()\n",
    "                    sr_arr = out[i].data.numpy()\n",
    "                \n",
    "                target_arr = target[i].detach().data.numpy()\n",
    "        \n",
    "                input_arr = np.transpose(input_arr, (1, 2, 0))\n",
    "                sr_arr = np.transpose(sr_arr, (1, 2, 0))\n",
    "                target_arr = np.transpose(target_arr, (1, 2, 0))\n",
    "                \n",
    "                sr_arr[sr_arr < 0.] = 0\n",
    "                sr_arr[sr_arr > 1.] = 1.\n",
    "                \n",
    "                compare_img = np.concatenate((input_arr, sr_arr, target_arr), axis=1)\n",
    "            \n",
    "                bicubic_psnr = psnr(input_arr, target_arr)\n",
    "                sr_psnr = psnr(sr_arr, target_arr)\n",
    "                \n",
    "                sum_bicubic_psnr += bicubic_psnr\n",
    "                sum_sr_psnr += sr_psnr\n",
    "                \n",
    "                bicubic_ssim = ssim(input_arr, target_arr, multichannel=True)\n",
    "                sr_ssim = ssim(sr_arr, target_arr, multichannel=True)\n",
    "                \n",
    "                sum_bicubic_ssim += bicubic_ssim\n",
    "                sum_sr_ssim += sr_ssim\n",
    "                \n",
    "                \n",
    "                \n",
    "                compare_img = compare_img * 255\n",
    "                compare_img = compare_img.astype(np.int16)\n",
    "                sr_arr = sr_arr * 255\n",
    "                sr_arr = sr_arr.astype(np.int16)\n",
    "                cv2.imwrite(os.path.join(sr_compare_dir, file_name), compare_img)\n",
    "                cv2.imwrite(os.path.join(sr_result_dir, file_name), sr_arr)\n",
    "                \n",
    "                print(file_name)\n",
    "                print(\"Bicubic PSNR: {:.8f}, Bicubic SSIM: {:.8f}, SR PSNR: {:.8f}, SR SSIM: {:.8f}\".format(\n",
    "                    bicubic_psnr, bicubic_ssim, sr_psnr, sr_ssim))\n",
    "                total_num += 1\n",
    "\n",
    "        avg_bicubic_psnr = sum_bicubic_psnr / total_num\n",
    "        avg_sr_psnr = sum_sr_psnr / total_num\n",
    "        \n",
    "        avg_bicubic_ssim = sum_bicubic_ssim / total_num\n",
    "        avg_sr_ssim = sum_sr_ssim / total_num\n",
    "\n",
    "        print(\"Time: {:.2f}\".format(time.time() - start_time))\n",
    "        print(\"Bicubic PSNR: {:.8f}\".format(avg_bicubic_psnr))\n",
    "        print(\"Bicubic SSIM: {:.8f}\".format(avg_bicubic_ssim))\n",
    "        print(\"SR PSNR: {:.8f}\".format(avg_sr_psnr))\n",
    "        print(\"SR SSIM: {:.8f}\".format(avg_sr_ssim))"
   ]
  },
  {
   "cell_type": "code",
   "execution_count": null,
   "metadata": {
    "colab": {
     "base_uri": "https://localhost:8080/",
     "height": 351
    },
    "colab_type": "code",
    "id": "fOcoSLEdREnO",
    "outputId": "0d645e8a-b45b-4d5f-9557-02bb41c3c804"
   },
   "outputs": [
    {
     "name": "stdout",
     "output_type": "stream",
     "text": [
      "test_dir is: /content/gdrive/My Drive/div2k_100/test_images\n",
      "test_result_dir is: /content/gdrive/My Drive/div2k_100/test_result\n",
      "=> loading checkpoint '/content/gdrive/My Drive/div2k_100/checkpoint_dir/models_epoch_0095_loss_0.002098.pth'\n",
      "=> loaded checkpoint '/content/gdrive/My Drive/div2k_100/checkpoint_dir/models_epoch_0095_loss_0.002098.pth' (epoch 95)\n",
      "0830.png\n",
      "Bicubic PSNR: 23.65051715, Bicubic SSIM: 0.77931095, SR PSNR: 24.02120494, SR SSIM: 0.79954338\n",
      "0883.png\n",
      "Bicubic PSNR: 25.04664727, Bicubic SSIM: 0.79283191, SR PSNR: 25.56328485, SR SSIM: 0.82098483\n",
      "0884.png\n",
      "Bicubic PSNR: 24.20699310, Bicubic SSIM: 0.77717060, SR PSNR: 24.67301781, SR SSIM: 0.79965764\n",
      "0886.png\n",
      "Bicubic PSNR: 33.58014167, Bicubic SSIM: 0.96164323, SR PSNR: 34.37567642, SR SSIM: 0.96379398\n",
      "0891.png\n",
      "Bicubic PSNR: 23.90350388, Bicubic SSIM: 0.81219866, SR PSNR: 24.56720817, SR SSIM: 0.83302189\n",
      "Time: 28.84\n",
      "Bicubic PSNR: 26.07756061\n",
      "Bicubic SSIM: 0.82463107\n",
      "SR PSNR: 26.64007844\n",
      "SR SSIM: 0.84340034\n"
     ]
    }
   ],
   "source": [
    "test_dir = opt.test_dir\n",
    "res_scale = opt.res_scale\n",
    "print(\"test_dir is: {}\".format(test_dir))\n",
    "print(\"test_result_dir is: {}\".format(opt.test_result_dir))\n",
    "\n",
    "test_dataset = get_test_dataset(test_dir, res_scale)\n",
    "\n",
    "test_model(opt, test_dataset)"
   ]
  },
  {
   "cell_type": "code",
   "execution_count": null,
   "metadata": {
    "colab": {},
    "colab_type": "code",
    "id": "JM3Rw2UAGAdX"
   },
   "outputs": [],
   "source": []
  }
 ],
 "metadata": {
  "accelerator": "GPU",
  "colab": {
   "collapsed_sections": [],
   "machine_shape": "hm",
   "name": "1770053.ipynb",
   "provenance": []
  },
  "kernelspec": {
   "display_name": "Python 3",
   "language": "python",
   "name": "python3"
  },
  "language_info": {
   "codemirror_mode": {
    "name": "ipython",
    "version": 3
   },
   "file_extension": ".py",
   "mimetype": "text/x-python",
   "name": "python",
   "nbconvert_exporter": "python",
   "pygments_lexer": "ipython3",
   "version": "3.8.5"
  }
 },
 "nbformat": 4,
 "nbformat_minor": 4
}
