{
 "cells": [
  {
   "cell_type": "code",
   "execution_count": 1,
   "metadata": {},
   "outputs": [],
   "source": [
    "from __future__ import absolute_import \n",
    "from __future__ import division\n",
    "from __future__ import print_function\n",
    "\n",
    "from model.newdeconv import DeconvNet\n",
    "import numpy as np\n",
    "import cv2\n",
    "from matplotlib import pyplot as plt"
   ]
  },
  {
   "cell_type": "code",
   "execution_count": 2,
   "metadata": {},
   "outputs": [],
   "source": [
    "STEPS_PER_EPOCH = 100\n",
    "BATCH_SIZE = 32\n",
    "\n",
    "path_train   = '/Users/inchanji/GoogleDrive/cnn/mymodel/mnistNet/data/'\n",
    "path_model  = '/Users/inchanji/GoogleDrive/cnn/mymodel/mnistNet/mnistNet_deconv.hdf5'"
   ]
  },
  {
   "cell_type": "markdown",
   "metadata": {},
   "source": [
    "# train"
   ]
  },
  {
   "cell_type": "code",
   "execution_count": 5,
   "metadata": {
    "scrolled": false
   },
   "outputs": [
    {
     "name": "stdout",
     "output_type": "stream",
     "text": [
      "building network\n",
      "_________________________________________________________________\n",
      "Layer (type)                 Output Shape              Param #   \n",
      "=================================================================\n",
      "input_2 (InputLayer)         (32, 28, 28, 1)           0         \n",
      "_________________________________________________________________\n",
      "conv1-1 (Conv2D)             (32, 28, 28, 16)          144       \n",
      "_________________________________________________________________\n",
      "batchnorm1-1 (BatchNormaliza (32, 28, 28, 16)          64        \n",
      "_________________________________________________________________\n",
      "relu1-1 (Activation)         (32, 28, 28, 16)          0         \n",
      "_________________________________________________________________\n",
      "conv1-2 (Conv2D)             (32, 28, 28, 16)          2304      \n",
      "_________________________________________________________________\n",
      "batchnorm1-2 (BatchNormaliza (32, 28, 28, 16)          64        \n",
      "_________________________________________________________________\n",
      "relu1-2 (Activation)         (32, 28, 28, 16)          0         \n",
      "_________________________________________________________________\n",
      "pool1 (Lambda)               [(32, 14, 14, 16), (32, 1 0         \n",
      "_________________________________________________________________\n",
      "conv2-1 (Conv2D)             (32, 14, 14, 32)          4608      \n",
      "_________________________________________________________________\n",
      "batchnorm2-1 (BatchNormaliza (32, 14, 14, 32)          128       \n",
      "_________________________________________________________________\n",
      "relu2-1 (Activation)         (32, 14, 14, 32)          0         \n",
      "_________________________________________________________________\n",
      "conv2-2 (Conv2D)             (32, 14, 14, 32)          9216      \n",
      "_________________________________________________________________\n",
      "batchnorm2-2 (BatchNormaliza (32, 14, 14, 32)          128       \n",
      "_________________________________________________________________\n",
      "relu2-2 (Activation)         (32, 14, 14, 32)          0         \n",
      "_________________________________________________________________\n",
      "pool2 (Lambda)               [(32, 7, 7, 32), (32, 7,  0         \n",
      "_________________________________________________________________\n",
      "fc3 (Conv2D)                 (32, 1, 1, 512)           802816    \n",
      "_________________________________________________________________\n",
      "batchnorm_fc3 (BatchNormaliz (32, 1, 1, 512)           2048      \n",
      "_________________________________________________________________\n",
      "relu_fc3 (Activation)        (32, 1, 1, 512)           0         \n",
      "_________________________________________________________________\n",
      "fc4 (Conv2D)                 (32, 1, 1, 512)           262144    \n",
      "_________________________________________________________________\n",
      "batchnorm_fc4 (BatchNormaliz (32, 1, 1, 512)           2048      \n",
      "_________________________________________________________________\n",
      "relu_fc4 (Activation)        (32, 1, 1, 512)           0         \n",
      "_________________________________________________________________\n",
      "deconv-fc3 (Conv2DTranspose) (32, 7, 7, 32)            802816    \n",
      "_________________________________________________________________\n",
      "batchnorm_deconv-fc3 (BatchN (32, 7, 7, 32)            128       \n",
      "_________________________________________________________________\n",
      "relu_deconv-fc3 (Activation) (32, 7, 7, 32)            0         \n",
      "_________________________________________________________________\n",
      "unpool2 (MaxUnpoolWithArgmax (32, 14, 14, 32)          0         \n",
      "_________________________________________________________________\n",
      "deconv2-1 (Conv2DTranspose)  (32, 14, 14, 32)          9216      \n",
      "_________________________________________________________________\n",
      "batchnorm_deconv2-1 (BatchNo (32, 14, 14, 32)          128       \n",
      "_________________________________________________________________\n",
      "relu_deconv2-1 (Activation)  (32, 14, 14, 32)          0         \n",
      "_________________________________________________________________\n",
      "deconv2-2 (Conv2DTranspose)  (32, 14, 14, 16)          4608      \n",
      "_________________________________________________________________\n",
      "batchnorm_deconv2-2 (BatchNo (32, 14, 14, 16)          64        \n",
      "_________________________________________________________________\n",
      "relu_deconv2-2 (Activation)  (32, 14, 14, 16)          0         \n",
      "_________________________________________________________________\n",
      "unpool1 (MaxUnpoolWithArgmax (32, 28, 28, 16)          0         \n",
      "_________________________________________________________________\n",
      "deconv1-1 (Conv2DTranspose)  (32, 28, 28, 16)          2304      \n",
      "_________________________________________________________________\n",
      "batchnorm_deconv1-1 (BatchNo (32, 28, 28, 16)          64        \n",
      "_________________________________________________________________\n",
      "relu_deconv1-1 (Activation)  (32, 28, 28, 16)          0         \n",
      "_________________________________________________________________\n",
      "deconv1-2 (Conv2DTranspose)  (32, 28, 28, 16)          2304      \n",
      "_________________________________________________________________\n",
      "batchnorm_deconv1-2 (BatchNo (32, 28, 28, 16)          64        \n",
      "_________________________________________________________________\n",
      "relu_deconv1-2 (Activation)  (32, 28, 28, 16)          0         \n",
      "_________________________________________________________________\n",
      "output (Conv2DTranspose)     (32, 28, 28, 11)          187       \n",
      "=================================================================\n",
      "Total params: 1,907,595\n",
      "Trainable params: 1,905,131\n",
      "Non-trainable params: 2,464\n",
      "_________________________________________________________________\n",
      "None\n"
     ]
    }
   ],
   "source": [
    "\n",
    "\n",
    "\n",
    "deconv = DeconvNet()\n",
    "model  = deconv.build_model(print_summary = True, batch_size = BATCH_SIZE)\n",
    "\n",
    "trX, trY, teX, teY  = deconv.read_train_data(path_train,  train_sample_ratio = 0.66, \n",
    "                                trainfolder = 'trainingSet', segfolder = 'trainingSetSeg')\n",
    "\n"
   ]
  },
  {
   "cell_type": "code",
   "execution_count": 6,
   "metadata": {},
   "outputs": [
    {
     "name": "stdout",
     "output_type": "stream",
     "text": [
      "TRAIN DATA X: (27712, 28, 28, 1)\n",
      "TRAIN DATA Y: (27712, 28, 28, 11)\n",
      "TEST DATA X: (14272, 28, 28, 1)\n",
      "TEST DATA Y: (14272, 28, 28, 11)\n"
     ]
    }
   ],
   "source": [
    "print('TRAIN DATA X:', np.shape(trX))\n",
    "print('TRAIN DATA Y:', np.shape(trY))\n",
    "print('TEST DATA X:', np.shape(teX))\n",
    "print('TEST DATA Y:', np.shape(teY))"
   ]
  },
  {
   "cell_type": "code",
   "execution_count": 7,
   "metadata": {
    "scrolled": false
   },
   "outputs": [
    {
     "name": "stdout",
     "output_type": "stream",
     "text": [
      "WARNING:tensorflow:From /Users/inchanji/anaconda3/lib/python3.7/site-packages/tensorflow/python/ops/math_ops.py:3066: to_int32 (from tensorflow.python.ops.math_ops) is deprecated and will be removed in a future version.\n",
      "Instructions for updating:\n",
      "Use tf.cast instead.\n",
      "WARNING:tensorflow:From /Users/inchanji/anaconda3/lib/python3.7/site-packages/tensorflow/python/ops/math_grad.py:102: div (from tensorflow.python.ops.math_ops) is deprecated and will be removed in a future version.\n",
      "Instructions for updating:\n",
      "Deprecated in favor of operator or tf.math.divide.\n",
      "Epoch 1/30\n",
      "14272/14272 [==============================] - 63s 4ms/sample - loss: 57.8309 - acc: 0.7558 - mean_squared_error: 0.0680\n",
      "100/100 [==============================] - 94s 942ms/step - loss: 42.1524 - acc: 0.6839 - mean_squared_error: 0.0478 - val_loss: 57.8309 - val_acc: 0.7558 - val_mean_squared_error: 0.0680\n",
      "Epoch 2/30\n",
      "14272/14272 [==============================] - 64s 5ms/sample - loss: 36.7679 - acc: 0.8023 - mean_squared_error: 0.0388\n",
      "100/100 [==============================] - 89s 885ms/step - loss: 17.4151 - acc: 0.8817 - mean_squared_error: 0.0183 - val_loss: 36.7679 - val_acc: 0.8023 - val_mean_squared_error: 0.0388\n",
      "Epoch 3/30\n",
      "14272/14272 [==============================] - 62s 4ms/sample - loss: 27.4557 - acc: 0.8161 - mean_squared_error: 0.0229\n",
      "100/100 [==============================] - 87s 872ms/step - loss: 9.0295 - acc: 0.9458 - mean_squared_error: 0.0094 - val_loss: 27.4557 - val_acc: 0.8161 - val_mean_squared_error: 0.0229\n",
      "Epoch 4/30\n",
      "14272/14272 [==============================] - 63s 4ms/sample - loss: 28.0952 - acc: 0.8255 - mean_squared_error: 0.0218\n",
      "100/100 [==============================] - 92s 915ms/step - loss: 5.8682 - acc: 0.9627 - mean_squared_error: 0.0062 - val_loss: 28.0952 - val_acc: 0.8255 - val_mean_squared_error: 0.0218\n",
      "Epoch 5/30\n",
      "14272/14272 [==============================] - 63s 4ms/sample - loss: 30.6663 - acc: 0.8267 - mean_squared_error: 0.0227\n",
      "100/100 [==============================] - 87s 873ms/step - loss: 4.4608 - acc: 0.9676 - mean_squared_error: 0.0049 - val_loss: 30.6663 - val_acc: 0.8267 - val_mean_squared_error: 0.0227\n",
      "Epoch 6/30\n",
      "14272/14272 [==============================] - 64s 5ms/sample - loss: 33.4448 - acc: 0.8287 - mean_squared_error: 0.0247\n",
      "100/100 [==============================] - 91s 910ms/step - loss: 3.8247 - acc: 0.9702 - mean_squared_error: 0.0043 - val_loss: 33.4448 - val_acc: 0.8287 - val_mean_squared_error: 0.0247\n",
      "Epoch 7/30\n",
      "14272/14272 [==============================] - 63s 4ms/sample - loss: 35.1197 - acc: 0.8315 - mean_squared_error: 0.0239\n",
      "100/100 [==============================] - 89s 885ms/step - loss: 3.4910 - acc: 0.9717 - mean_squared_error: 0.0041 - val_loss: 35.1197 - val_acc: 0.8315 - val_mean_squared_error: 0.0239\n",
      "Epoch 8/30\n",
      "14272/14272 [==============================] - 70s 5ms/sample - loss: 39.1637 - acc: 0.8259 - mean_squared_error: 0.0262\n",
      "100/100 [==============================] - 95s 950ms/step - loss: 3.3702 - acc: 0.9722 - mean_squared_error: 0.0040 - val_loss: 39.1637 - val_acc: 0.8259 - val_mean_squared_error: 0.0262\n",
      "Epoch 9/30\n",
      "14272/14272 [==============================] - 68s 5ms/sample - loss: 39.2375 - acc: 0.8242 - mean_squared_error: 0.0253\n",
      "100/100 [==============================] - 98s 976ms/step - loss: 3.6040 - acc: 0.9715 - mean_squared_error: 0.0041 - val_loss: 39.2375 - val_acc: 0.8242 - val_mean_squared_error: 0.0253\n",
      "Epoch 10/30\n",
      "14272/14272 [==============================] - 70s 5ms/sample - loss: 37.8797 - acc: 0.8306 - mean_squared_error: 0.0232\n",
      "100/100 [==============================] - 101s 1s/step - loss: 3.5191 - acc: 0.9728 - mean_squared_error: 0.0040 - val_loss: 37.8797 - val_acc: 0.8306 - val_mean_squared_error: 0.0232\n",
      "Epoch 11/30\n",
      "14272/14272 [==============================] - 65s 5ms/sample - loss: 37.2351 - acc: 0.8321 - mean_squared_error: 0.0240\n",
      "100/100 [==============================] - 94s 941ms/step - loss: 3.1974 - acc: 0.9742 - mean_squared_error: 0.0038 - val_loss: 37.2351 - val_acc: 0.8321 - val_mean_squared_error: 0.0240\n",
      "Epoch 12/30\n",
      "14272/14272 [==============================] - 63s 4ms/sample - loss: 38.2456 - acc: 0.8320 - mean_squared_error: 0.0246\n",
      "100/100 [==============================] - 88s 882ms/step - loss: 2.9628 - acc: 0.9758 - mean_squared_error: 0.0035 - val_loss: 38.2456 - val_acc: 0.8320 - val_mean_squared_error: 0.0246\n",
      "Epoch 13/30\n",
      "14272/14272 [==============================] - 70s 5ms/sample - loss: 42.9702 - acc: 0.8268 - mean_squared_error: 0.0247\n",
      "100/100 [==============================] - 95s 954ms/step - loss: 3.2153 - acc: 0.9743 - mean_squared_error: 0.0037 - val_loss: 42.9702 - val_acc: 0.8268 - val_mean_squared_error: 0.0247\n",
      "Epoch 14/30\n",
      "14272/14272 [==============================] - 68s 5ms/sample - loss: 45.3017 - acc: 0.8279 - mean_squared_error: 0.0256\n",
      "100/100 [==============================] - 94s 944ms/step - loss: 2.6954 - acc: 0.9778 - mean_squared_error: 0.0032 - val_loss: 45.3017 - val_acc: 0.8279 - val_mean_squared_error: 0.0256\n",
      "Epoch 15/30\n",
      "14272/14272 [==============================] - 72s 5ms/sample - loss: 44.5396 - acc: 0.8283 - mean_squared_error: 0.0255\n",
      "100/100 [==============================] - 102s 1s/step - loss: 2.4890 - acc: 0.9787 - mean_squared_error: 0.0030 - val_loss: 44.5396 - val_acc: 0.8283 - val_mean_squared_error: 0.0255\n",
      "Epoch 16/30\n",
      "14272/14272 [==============================] - 71s 5ms/sample - loss: 41.2988 - acc: 0.8330 - mean_squared_error: 0.0246\n",
      "100/100 [==============================] - 99s 986ms/step - loss: 2.3182 - acc: 0.9800 - mean_squared_error: 0.0028 - val_loss: 41.2988 - val_acc: 0.8330 - val_mean_squared_error: 0.0246\n",
      "Epoch 17/30\n",
      "14272/14272 [==============================] - 65s 5ms/sample - loss: 42.6512 - acc: 0.8312 - mean_squared_error: 0.0249\n",
      "100/100 [==============================] - 93s 926ms/step - loss: 2.1234 - acc: 0.9811 - mean_squared_error: 0.0027 - val_loss: 42.6512 - val_acc: 0.8312 - val_mean_squared_error: 0.0249\n",
      "Epoch 18/30\n",
      "14272/14272 [==============================] - 65s 5ms/sample - loss: 43.4741 - acc: 0.8316 - mean_squared_error: 0.0248\n",
      "100/100 [==============================] - 91s 910ms/step - loss: 2.2915 - acc: 0.9801 - mean_squared_error: 0.0028 - val_loss: 43.4741 - val_acc: 0.8316 - val_mean_squared_error: 0.0248\n",
      "Epoch 19/30\n",
      "14272/14272 [==============================] - 62s 4ms/sample - loss: 46.9693 - acc: 0.8298 - mean_squared_error: 0.0260\n",
      "100/100 [==============================] - 88s 880ms/step - loss: 2.3137 - acc: 0.9806 - mean_squared_error: 0.0028 - val_loss: 46.9693 - val_acc: 0.8298 - val_mean_squared_error: 0.0260\n",
      "Epoch 20/30\n",
      "14272/14272 [==============================] - 62s 4ms/sample - loss: 46.8122 - acc: 0.8298 - mean_squared_error: 0.0270\n",
      "100/100 [==============================] - 87s 874ms/step - loss: 2.3292 - acc: 0.9807 - mean_squared_error: 0.0028 - val_loss: 46.8122 - val_acc: 0.8298 - val_mean_squared_error: 0.0270\n",
      "Epoch 21/30\n",
      "14272/14272 [==============================] - 64s 4ms/sample - loss: 43.2824 - acc: 0.8323 - mean_squared_error: 0.0252\n",
      "100/100 [==============================] - 90s 899ms/step - loss: 2.7747 - acc: 0.9783 - mean_squared_error: 0.0032 - val_loss: 43.2824 - val_acc: 0.8323 - val_mean_squared_error: 0.0252\n",
      "Epoch 22/30\n",
      "14272/14272 [==============================] - 66s 5ms/sample - loss: 46.1530 - acc: 0.8262 - mean_squared_error: 0.0256\n",
      "100/100 [==============================] - 91s 907ms/step - loss: 2.2763 - acc: 0.9808 - mean_squared_error: 0.0027 - val_loss: 46.1530 - val_acc: 0.8262 - val_mean_squared_error: 0.0256\n",
      "Epoch 23/30\n",
      "14272/14272 [==============================] - 64s 5ms/sample - loss: 46.6013 - acc: 0.8296 - mean_squared_error: 0.0251\n",
      "100/100 [==============================] - 91s 915ms/step - loss: 2.4084 - acc: 0.9805 - mean_squared_error: 0.0028 - val_loss: 46.6013 - val_acc: 0.8296 - val_mean_squared_error: 0.0251\n",
      "Epoch 24/30\n",
      "14272/14272 [==============================] - 63s 4ms/sample - loss: 45.9720 - acc: 0.8312 - mean_squared_error: 0.0255\n",
      "100/100 [==============================] - 88s 879ms/step - loss: 2.1718 - acc: 0.9817 - mean_squared_error: 0.0026 - val_loss: 45.9720 - val_acc: 0.8312 - val_mean_squared_error: 0.0255\n"
     ]
    },
    {
     "name": "stdout",
     "output_type": "stream",
     "text": [
      "Epoch 25/30\n",
      "14272/14272 [==============================] - 62s 4ms/sample - loss: 42.5723 - acc: 0.8340 - mean_squared_error: 0.0244\n",
      "100/100 [==============================] - 87s 874ms/step - loss: 2.5023 - acc: 0.9809 - mean_squared_error: 0.0028 - val_loss: 42.5723 - val_acc: 0.8340 - val_mean_squared_error: 0.0244\n",
      "Epoch 26/30\n",
      "14272/14272 [==============================] - 62s 4ms/sample - loss: 46.6721 - acc: 0.8322 - mean_squared_error: 0.0256\n",
      "100/100 [==============================] - 87s 865ms/step - loss: 2.2008 - acc: 0.9823 - mean_squared_error: 0.0026 - val_loss: 46.6721 - val_acc: 0.8322 - val_mean_squared_error: 0.0256\n",
      "Epoch 27/30\n",
      "14272/14272 [==============================] - 63s 4ms/sample - loss: 47.6630 - acc: 0.8315 - mean_squared_error: 0.0254\n",
      "100/100 [==============================] - 88s 876ms/step - loss: 2.2916 - acc: 0.9816 - mean_squared_error: 0.0027 - val_loss: 47.6630 - val_acc: 0.8315 - val_mean_squared_error: 0.0254\n",
      "Epoch 28/30\n",
      "14272/14272 [==============================] - 63s 4ms/sample - loss: 44.8040 - acc: 0.8327 - mean_squared_error: 0.0252\n",
      "100/100 [==============================] - 87s 873ms/step - loss: 2.2278 - acc: 0.9824 - mean_squared_error: 0.0026 - val_loss: 44.8040 - val_acc: 0.8327 - val_mean_squared_error: 0.0252\n",
      "Epoch 29/30\n",
      "14272/14272 [==============================] - 63s 4ms/sample - loss: 45.4571 - acc: 0.8304 - mean_squared_error: 0.0249\n",
      "100/100 [==============================] - 88s 879ms/step - loss: 2.6843 - acc: 0.9798 - mean_squared_error: 0.0030 - val_loss: 45.4571 - val_acc: 0.8304 - val_mean_squared_error: 0.0249\n",
      "Epoch 30/30\n",
      "14272/14272 [==============================] - 64s 4ms/sample - loss: 43.6922 - acc: 0.8343 - mean_squared_error: 0.0253\n",
      "100/100 [==============================] - 89s 891ms/step - loss: 2.2604 - acc: 0.9819 - mean_squared_error: 0.0026 - val_loss: 43.6922 - val_acc: 0.8343 - val_mean_squared_error: 0.0253\n",
      "saving model to  /Users/inchanji/GoogleDrive/cnn/mymodel/mnistNet/mnistNet_deconv.hdf5\n"
     ]
    }
   ],
   "source": [
    "deconv.train(STEPS_PER_EPOCH, epochs = 30, saveto = path_model)"
   ]
  },
  {
   "cell_type": "markdown",
   "metadata": {},
   "source": [
    "# Inference"
   ]
  },
  {
   "cell_type": "code",
   "execution_count": 3,
   "metadata": {
    "scrolled": false
   },
   "outputs": [
    {
     "name": "stdout",
     "output_type": "stream",
     "text": [
      "building network\n",
      "WARNING:tensorflow:From /Users/inchanji/anaconda3/lib/python3.7/site-packages/tensorflow/python/ops/resource_variable_ops.py:435: colocate_with (from tensorflow.python.framework.ops) is deprecated and will be removed in a future version.\n",
      "Instructions for updating:\n",
      "Colocations handled automatically by placer.\n",
      "_________________________________________________________________\n",
      "Layer (type)                 Output Shape              Param #   \n",
      "=================================================================\n",
      "input_1 (InputLayer)         (32, 28, 28, 1)           0         \n",
      "_________________________________________________________________\n",
      "conv1-1 (Conv2D)             (32, 28, 28, 16)          144       \n",
      "_________________________________________________________________\n",
      "batchnorm1-1 (BatchNormaliza (32, 28, 28, 16)          64        \n",
      "_________________________________________________________________\n",
      "relu1-1 (Activation)         (32, 28, 28, 16)          0         \n",
      "_________________________________________________________________\n",
      "conv1-2 (Conv2D)             (32, 28, 28, 16)          2304      \n",
      "_________________________________________________________________\n",
      "batchnorm1-2 (BatchNormaliza (32, 28, 28, 16)          64        \n",
      "_________________________________________________________________\n",
      "relu1-2 (Activation)         (32, 28, 28, 16)          0         \n",
      "_________________________________________________________________\n",
      "conv1-3 (Conv2D)             (32, 28, 28, 16)          2304      \n",
      "_________________________________________________________________\n",
      "batchnorm1-3 (BatchNormaliza (32, 28, 28, 16)          64        \n",
      "_________________________________________________________________\n",
      "relu1-3 (Activation)         (32, 28, 28, 16)          0         \n",
      "_________________________________________________________________\n",
      "pool1 (Lambda)               [(32, 14, 14, 16), (32, 1 0         \n",
      "_________________________________________________________________\n",
      "conv2-1 (Conv2D)             (32, 14, 14, 32)          4608      \n",
      "_________________________________________________________________\n",
      "batchnorm2-1 (BatchNormaliza (32, 14, 14, 32)          128       \n",
      "_________________________________________________________________\n",
      "relu2-1 (Activation)         (32, 14, 14, 32)          0         \n",
      "_________________________________________________________________\n",
      "conv2-2 (Conv2D)             (32, 14, 14, 32)          9216      \n",
      "_________________________________________________________________\n",
      "batchnorm2-2 (BatchNormaliza (32, 14, 14, 32)          128       \n",
      "_________________________________________________________________\n",
      "relu2-2 (Activation)         (32, 14, 14, 32)          0         \n",
      "_________________________________________________________________\n",
      "conv2-3 (Conv2D)             (32, 14, 14, 32)          9216      \n",
      "_________________________________________________________________\n",
      "batchnorm2-3 (BatchNormaliza (32, 14, 14, 32)          128       \n",
      "_________________________________________________________________\n",
      "relu2-3 (Activation)         (32, 14, 14, 32)          0         \n",
      "_________________________________________________________________\n",
      "pool2 (Lambda)               [(32, 7, 7, 32), (32, 7,  0         \n",
      "_________________________________________________________________\n",
      "fc3 (Conv2D)                 (32, 1, 1, 512)           802816    \n",
      "_________________________________________________________________\n",
      "batchnorm_fc3 (BatchNormaliz (32, 1, 1, 512)           2048      \n",
      "_________________________________________________________________\n",
      "relu_fc3 (Activation)        (32, 1, 1, 512)           0         \n",
      "_________________________________________________________________\n",
      "fc4 (Conv2D)                 (32, 1, 1, 512)           262144    \n",
      "_________________________________________________________________\n",
      "batchnorm_fc4 (BatchNormaliz (32, 1, 1, 512)           2048      \n",
      "_________________________________________________________________\n",
      "relu_fc4 (Activation)        (32, 1, 1, 512)           0         \n",
      "_________________________________________________________________\n",
      "deconv-fc3 (Conv2DTranspose) (32, 7, 7, 32)            802816    \n",
      "_________________________________________________________________\n",
      "batchnorm_deconv-fc3 (BatchN (32, 7, 7, 32)            128       \n",
      "_________________________________________________________________\n",
      "relu_deconv-fc3 (Activation) (32, 7, 7, 32)            0         \n",
      "_________________________________________________________________\n",
      "unpool2 (MaxUnpoolWithArgmax (32, 14, 14, 32)          0         \n",
      "_________________________________________________________________\n",
      "deconv2-1 (Conv2DTranspose)  (32, 14, 14, 32)          9216      \n",
      "_________________________________________________________________\n",
      "batchnorm_deconv2-1 (BatchNo (32, 14, 14, 32)          128       \n",
      "_________________________________________________________________\n",
      "relu_deconv2-1 (Activation)  (32, 14, 14, 32)          0         \n",
      "_________________________________________________________________\n",
      "deconv2-2 (Conv2DTranspose)  (32, 14, 14, 16)          4608      \n",
      "_________________________________________________________________\n",
      "batchnorm_deconv2-2 (BatchNo (32, 14, 14, 16)          64        \n",
      "_________________________________________________________________\n",
      "relu_deconv2-2 (Activation)  (32, 14, 14, 16)          0         \n",
      "_________________________________________________________________\n",
      "deconv2-3 (Conv2DTranspose)  (32, 14, 14, 16)          2304      \n",
      "_________________________________________________________________\n",
      "batchnorm_deconv2-3 (BatchNo (32, 14, 14, 16)          64        \n",
      "_________________________________________________________________\n",
      "relu_deconv2-3 (Activation)  (32, 14, 14, 16)          0         \n",
      "_________________________________________________________________\n",
      "unpool1 (MaxUnpoolWithArgmax (32, 28, 28, 16)          0         \n",
      "_________________________________________________________________\n",
      "deconv1-1 (Conv2DTranspose)  (32, 28, 28, 16)          2304      \n",
      "_________________________________________________________________\n",
      "batchnorm_deconv1-1 (BatchNo (32, 28, 28, 16)          64        \n",
      "_________________________________________________________________\n",
      "relu_deconv1-1 (Activation)  (32, 28, 28, 16)          0         \n",
      "_________________________________________________________________\n",
      "deconv1-2 (Conv2DTranspose)  (32, 28, 28, 16)          2304      \n",
      "_________________________________________________________________\n",
      "batchnorm_deconv1-2 (BatchNo (32, 28, 28, 16)          64        \n",
      "_________________________________________________________________\n",
      "relu_deconv1-2 (Activation)  (32, 28, 28, 16)          0         \n",
      "_________________________________________________________________\n",
      "deconv1-3 (Conv2DTranspose)  (32, 28, 28, 16)          2304      \n",
      "_________________________________________________________________\n",
      "batchnorm_deconv1-3 (BatchNo (32, 28, 28, 16)          64        \n",
      "_________________________________________________________________\n",
      "relu_deconv1-3 (Activation)  (32, 28, 28, 16)          0         \n",
      "_________________________________________________________________\n",
      "output (Conv2DTranspose)     (32, 28, 28, 11)          187       \n",
      "=================================================================\n",
      "Total params: 1,924,043\n",
      "Trainable params: 1,921,419\n",
      "Non-trainable params: 2,624\n",
      "_________________________________________________________________\n",
      "None\n"
     ]
    },
    {
     "data": {
      "text/plain": [
       "<tensorflow.python.keras.engine.training.Model at 0xb4aa2e198>"
      ]
     },
     "execution_count": 3,
     "metadata": {},
     "output_type": "execute_result"
    }
   ],
   "source": [
    "infer = DeconvNet()\n",
    "infer.build_model(print_summary = True, batch_size = BATCH_SIZE)"
   ]
  },
  {
   "cell_type": "code",
   "execution_count": 4,
   "metadata": {},
   "outputs": [],
   "source": [
    "infer.load(path_model)"
   ]
  },
  {
   "cell_type": "code",
   "execution_count": 134,
   "metadata": {},
   "outputs": [],
   "source": [
    "imgpath = '/Users/inchanji/GoogleDrive/cnn/mymodel/mnistNet/data/testSet/img_60.jpg'\n"
   ]
  },
  {
   "cell_type": "code",
   "execution_count": 135,
   "metadata": {},
   "outputs": [
    {
     "data": {
      "image/png": "[encoded data removed]",
      "text/plain": [
       "<Figure size 432x288 with 1 Axes>"
      ]
     },
     "metadata": {
      "needs_background": "light"
     },
     "output_type": "display_data"
    },
    {
     "data": {
      "text/plain": [
       "(28, 28, 3)"
      ]
     },
     "execution_count": 135,
     "metadata": {},
     "output_type": "execute_result"
    }
   ],
   "source": [
    "img0 = cv2.imread(imgpath)\n",
    "plt.imshow(img0)\n",
    "plt.show()\n",
    "np.shape(img0)"
   ]
  },
  {
   "cell_type": "code",
   "execution_count": 112,
   "metadata": {},
   "outputs": [
    {
     "data": {
      "image/png": "[encoded data removed]",
      "text/plain": [
       "<Figure size 432x288 with 1 Axes>"
      ]
     },
     "metadata": {
      "needs_background": "light"
     },
     "output_type": "display_data"
    }
   ],
   "source": [
    "img2 = img0.copy()\n",
    "img2[:,:,:] = 0\n",
    "img2[:,5:15,:] = img0[:,10:20,:]\n",
    "img2[:,18:,:] = img0[:,10:20,:]\n",
    "plt.imshow(img2)\n",
    "plt.show()"
   ]
  },
  {
   "cell_type": "code",
   "execution_count": 136,
   "metadata": {},
   "outputs": [],
   "source": [
    "imgInfer = np.zeros((BATCH_SIZE, 28, 28, 1))\n",
    "img = np.array(img0[:,:,0], dtype = 'float32')\n",
    "img = cv2.resize(img, (28, 28), interpolation = cv2.INTER_AREA)\n",
    "img /= 255\n",
    "img = np.expand_dims(img, axis=2)\n",
    "img = np.expand_dims(img, axis=0)\n",
    "imgInfer[0] = img \n",
    "pred  = infer.predict(imgInfer)[0]"
   ]
  },
  {
   "cell_type": "code",
   "execution_count": 137,
   "metadata": {},
   "outputs": [],
   "source": [
    "pred = pred\n",
    "\n",
    "out \t= np.zeros((28, 28), dtype = np.int)\n",
    "for i in range(28):\n",
    "    for j in range(28):\n",
    "        idx \t= int(np.argmax(pred[i,j,:]))\n",
    "        out[i,j] = idx\n"
   ]
  },
  {
   "cell_type": "code",
   "execution_count": 138,
   "metadata": {},
   "outputs": [
    {
     "data": {
      "image/png": "[encoded data removed]",
      "text/plain": [
       "<Figure size 432x288 with 2 Axes>"
      ]
     },
     "metadata": {
      "needs_background": "light"
     },
     "output_type": "display_data"
    }
   ],
   "source": [
    "label = ['background', '0','1','2','3','4','5','6','7','8','9','N/A']\n",
    "title = label[ int(np.median(out[np.where(np.array(out) > 0)]))]\n",
    "\n",
    "fig, ax = plt.subplots()\n",
    "plt.title(title)\n",
    "cax = ax.imshow(out, cmap = 'Paired', vmin = -0.5, vmax = 11.5)\n",
    "cbar = fig.colorbar(cax, ticks=np.arange(12), orientation='vertical')\n",
    "cbar.ax.set_yticklabels(label) \n",
    "plt.show()"
   ]
  },
  {
   "cell_type": "code",
   "execution_count": 78,
   "metadata": {},
   "outputs": [
    {
     "data": {
      "text/plain": [
       "2.0"
      ]
     },
     "execution_count": 78,
     "metadata": {},
     "output_type": "execute_result"
    }
   ],
   "source": [
    "np.median(out[np.where(np.array(out) > 0)])"
   ]
  },
  {
   "cell_type": "code",
   "execution_count": 79,
   "metadata": {},
   "outputs": [
    {
     "data": {
      "image/png": "[encoded data removed]",
      "text/plain": [
       "<Figure size 432x288 with 1 Axes>"
      ]
     },
     "metadata": {
      "needs_background": "light"
     },
     "output_type": "display_data"
    }
   ],
   "source": [
    "plt.imshow(img0)\n",
    "plt.imshow(out, cmap = 'Paired', vmin = -0.5, vmax = 11.5, alpha= 0.5)\n",
    "plt.show()"
   ]
  },
  {
   "cell_type": "code",
   "execution_count": 80,
   "metadata": {},
   "outputs": [
    {
     "data": {
      "text/plain": [
       "array([ 0,  1,  2,  3,  4,  5,  6,  7,  8,  9, 10])"
      ]
     },
     "execution_count": 80,
     "metadata": {},
     "output_type": "execute_result"
    }
   ],
   "source": [
    "np.arange(11)"
   ]
  },
  {
   "cell_type": "code",
   "execution_count": null,
   "metadata": {},
   "outputs": [],
   "source": []
  }
 ],
 "metadata": {
  "kernelspec": {
   "display_name": "Python 3",
   "language": "python",
   "name": "python3"
  },
  "language_info": {
   "codemirror_mode": {
    "name": "ipython",
    "version": 3
   },
   "file_extension": ".py",
   "mimetype": "text/x-python",
   "name": "python",
   "nbconvert_exporter": "python",
   "pygments_lexer": "ipython3",
   "version": "3.7.6"
  }
 },
 "nbformat": 4,
 "nbformat_minor": 2
}
